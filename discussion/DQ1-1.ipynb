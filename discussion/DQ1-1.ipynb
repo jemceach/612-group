{
 "cells": [
  {
   "cell_type": "markdown",
   "metadata": {},
   "source": [
    "#### Data 612 - Research Discussion Assignment 1  <br> Juliann McEachern  <br> June 13, 2019\n",
    "\n",
    "<h1 align=\"center\"><a href=\"https://www.kayak.com/company\">Kayak</a>: Travel Recommender System</h1>\n",
    "\n",
    "\n",
    "### How Does it Work\n",
    "\n",
    "Kayak uses user-inputted preferences, such as dates and locations, to make travel booking recommendations for flights, hotels, cars, and  vacation packages. For the purposes of this assignment, I will be strictly looking at Kayak's flight and hotel recommendation system. \n",
    "\n",
    "Kayak describes it's services as a metasearch engine for travel deals with the purpose of assisting users in making travel-related decisions. Once a trip is selected, the system directs travelers to an associate websites to finalize their travel arrangements. \n",
    "\n",
    "While a search engine is not a recommender system, Kayak utalizes knowledge-based recommendations for flights and collaborative filtering recommendations for hotel selections. \n",
    "\n",
    "#### Flights\n",
    "\n",
    "Kayak aggregates flight data for users and lists recommendations based on the following factors:\n",
    "<div><img src=\"images/kayak-flights.JPG\" alt=\"Drawing\" style=\"width: 200px; float: right\"/></div>\n",
    "\n",
    "+ `Best and Recommended`: Recommendations take into consideration flight-length, total layovers, and price.\n",
    "+ `Price`: Allows users to find the best deals based soley on price.\n",
    "\n",
    "Kayak's \"Best and Recommended\" flights infer users travel needs and make recommendations through maximizing quickest travel time and lowest price. Kayak also provides users with a price forecasting tool, which further recommends when users should book their travel based on predictive price patterns. \n",
    "\n",
    "#### Hotels\n",
    "\n",
    "The website also aggregates hotel data and lists recommendations based on the following factors:\n",
    "+ `Recommended`: Recommends accomodations based on guest review scores, popularity (number of clicks), and generated-revenue for Kayak.\n",
    "+ `Price`: Allows users to find the best deals based soley on price.\n",
    "\n",
    "Users can then sort the recommended lists by recommendations, price, review score, and stars. Users can also filter content by accomodation preferences such as free breakfast or wifi availability. \n",
    "\n",
    "The example search below for New York City shows how Kayak lists hotels by stars and guest popularity: \n",
    "<br>\n",
    "<br>\n",
    "<div><img src=\"images/kayak-hotel.JPG\" alt=\"Drawing\" style=\"width: 800px; border:2px solid silver\"/></div>\n",
    "\n",
    "\n",
    "### User Experience\n",
    "\n",
    "Kayak delivers a great, customizable user experience for travelers. The knowledge-based recommendations for flights curates lists based on customer’s need. And, their collaborative filtering for hotel seamlessly integrates preferences/ratings from other users when making user recommendations. Kayak's user interface is extremely easy to navigate and offers additional features such as travel alerts to keep users up-to-date with changes in their travel queries.  "
   ]
  }
 ],
 "metadata": {
  "kernelspec": {
   "display_name": "Python 3",
   "language": "python",
   "name": "python3"
  },
  "language_info": {
   "codemirror_mode": {
    "name": "ipython",
    "version": 3
   },
   "file_extension": ".py",
   "mimetype": "text/x-python",
   "name": "python",
   "nbconvert_exporter": "python",
   "pygments_lexer": "ipython3",
   "version": "3.7.3"
  }
 },
 "nbformat": 4,
 "nbformat_minor": 2
}
