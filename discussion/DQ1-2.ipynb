{
 "cells": [
  {
   "cell_type": "markdown",
   "metadata": {},
   "source": [
    "#### Data 612 - Research Discussion Assignment 1<br> Juliann McEachern  <br> June 13, 2019\n",
    "\n",
    "<h1 align=\"center\"><a href=\"https://www.tripadvisor.com/pages/serviceEN.html\">Trip Advisor</a>: Attacks on Recommender System</h1>\n",
    "\n",
    "\n",
    "Trip Advisor mitigates attacks on recommender systems by requiring reviewers to use a verified account, provide details of trip including dates, and post submissions of at least 200 characters. These steps ensure users provide thoughtful information which justifies their rating score. Trip Advisor also uses an algorithm to check for duplicate reviews and ensures reviews meet set standards and don’t contain inappropriate language or third-party advertisements. The website further uses content moderators to review all posts. \n",
    "\n",
    "These methods, however, do not stop all fictious claims from travelers. For example, a user who had a negative experience could embellish or even lie about the treatment they received. There have even been alleged reports of consumers using their ratings to blackmailing companies. Trip Advisor allows companies to respond to customer reviews, however there are no fact checkers to verify the accuracy of accounts. And, Trip Advisor can take up to 14 business days to investigate reported reviews.\n",
    "\n",
    "Trip Advisor has come under a lot of scrutiny regarding their ability to moderate fake reviews. The company even removed the words “trusted” and “honest” from their marketing slogans due to lawsuits stemming from fraudulent reviews. \n",
    "\n",
    "The 2016 article, “[What You Don’t Know About Trip Advisor](https://medium.com/choking-on-a-macaron/what-you-don-t-know-about-tripadvisor-15d31d745bdc)”, makes an excellent point about user-generated reviews:\n",
    "\n",
    "> Unless you’re talking in actual measurements, size is relative, and “relative to guest expectations” is useless when every traveler has different expectations. I think what we really want to know is if the hotel room is spacious relative to other rooms in Paris in the same price range. And only someone who has visited a large number of Parisian hotels would know that, such as travel writers or frequent travelers.\n",
    "\n",
    "User-reviews are the foundation of Trip Advisor’s recommendation system. The referenced article made a public recommendation to Trip Advisor further moderate their comments by following a similar comment system implored by the New York Times.  The author suggests that Trip Advisor should further moderate posts by highlighting their top picks by usefulness to consumers.  \n",
    "\n",
    "This Trip Advisor example highlights the challenges recommender systems face. Online reviews are critical to the success of travel-related business. And, reviewers ratings can be motivated by extremely positive or negative experiences, which can lead to some falsified accounts.  Companies do not want negative reviews and have an inherent incentive to want them removed. Thus, Trip Advisor must continue to find ways to improve their algorithm in a way that delicately analyzing fact and fiction for all posted reviews. "
   ]
  }
 ],
 "metadata": {
  "kernelspec": {
   "display_name": "Python 3",
   "language": "python",
   "name": "python3"
  },
  "language_info": {
   "codemirror_mode": {
    "name": "ipython",
    "version": 3
   },
   "file_extension": ".py",
   "mimetype": "text/x-python",
   "name": "python",
   "nbconvert_exporter": "python",
   "pygments_lexer": "ipython3",
   "version": "3.7.3"
  }
 },
 "nbformat": 4,
 "nbformat_minor": 2
}
