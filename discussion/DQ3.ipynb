{
 "cells": [
  {
   "cell_type": "markdown",
   "metadata": {},
   "source": [
    "#### Data 612 - Research Discussion 3<br> Juliann McEachern <br> June 27, 2019\n",
    "\n",
    "<h1 align=\"center\">Human Bias in Recommender Systems</h1>\n",
    "\n",
    "## Prompt: \n",
    "As more systems and sectors are driven by predictive analytics, there is increasing awareness of the possibility and pitfalls of algorithmic discrimination. In what ways do you think Recommender Systems reinforce human bias? Reflecting on the techniques we have covered, do you think recommender systems reinforce or help to prevent unethical targeting or customer segmentation?  Please provide one or more examples to support your arguments.\n",
    "\n",
    "A few resources:\n",
    "\n",
    "1. Evan Estola (2016): [When Recommendations Systems Go Bad; MLconf SEA 2016](https://www.youtube.com/watch?v=MqoRzNhrTnQ)\n",
    "2. Rishabh Jain (2016): [When Recommendation Systems Go Bad](https://cds.nyu.edu/recommendation-systems-go-bad-%E2%80%A8/)\n",
    "3. Moritz Hardt, Eric Price, Nathan Srebro (2016):  [Equality of Opportunity in Supervised Learning](https://arxiv.org/pdf/1610.02413.pdf)\n",
    "\n",
    "\n",
    "----------------------------------\n",
    "\n",
    "## Response: \n",
    "\n",
    "Comprehensive systems, such as Netflix and Spotify, offer powerful & seamless recommenders. Users of these platforms want these recommendations and are incentivized to continue using their systems because of the tailored content it provides. Even here though, raises ethical questions of the massive user-profiles these companies build on you and everything you consume. With hybrid content/collaborative methods, their programs sophisticatedly cater to user interests based on information they've collected on you. \n",
    "\n",
    "Spotify will recommend music that's so similar to what a person already listens to, it's hard to tell the difference. Netflix caters the shows and movies it features based on what a customer has already watched. This type of recommendation, while convenient to an extent, severally limits a person's exposure to new things. And, undoubtedly leads to strong customer segmentation. Recommender systems offer vital services, but come with at a cost when they reinforce human bias.\n",
    "\n",
    "In particular, we've learned how over-specification can be a major drawback to many content-based system. These systems use metadata retrieval to recommend content without requiring input from other users. With computer search histories and cookies, Our only metadata footprint on the web can lead users to repetitive, sponsored content for items like clothing or home furnishing supplies. \n",
    "\n",
    "You click on a necklace once and targeted advertisements hone in on this detail and recommend more and more (especially if you're privacy settings aren't enabled properly). Sponsored content in particular is what I think of most when I hear \"recommendation systems going bad\". After reading more on the subject, I found this article to be particularly thought provoking given this weeks topic:\n",
    "\n",
    "https://www.wired.com/story/people-trying-make-internet-recommendations-less-toxic/\n"
   ]
  }
 ],
 "metadata": {
  "kernelspec": {
   "display_name": "Python 3",
   "language": "python",
   "name": "python3"
  },
  "language_info": {
   "codemirror_mode": {
    "name": "ipython",
    "version": 3
   },
   "file_extension": ".py",
   "mimetype": "text/x-python",
   "name": "python",
   "nbconvert_exporter": "python",
   "pygments_lexer": "ipython3",
   "version": "3.7.3"
  }
 },
 "nbformat": 4,
 "nbformat_minor": 2
}
