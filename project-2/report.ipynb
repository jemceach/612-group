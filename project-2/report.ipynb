{
 "cells": [
  {
   "cell_type": "markdown",
   "metadata": {},
   "source": [
    "#### Data 612 - Project 2 : Content-Based and Collaborative Filtering<br>Date: June 18, 2019<br>Team Info: \n",
    "+ Christina Valore\n",
    "+ Juliann McEachern \n",
    "+ Rajwant Mishra\n",
    "\n",
    "<h1 align=\"center\">Good Books Recommender System</h1>\n",
    "\n",
    "## Dataset Selection\n",
    "\n",
    "Data was obtain from [goodbooks2017](#cite-goodbooks2017)."
   ]
  },
  {
   "cell_type": "code",
   "execution_count": 43,
   "metadata": {},
   "outputs": [],
   "source": [
    "import pandas as pd\n",
    "import numpy as np\n",
    "import matplotlib.pyplot as plt\n",
    "\n",
    "# Load data from local csv  into pandas dataframe\n",
    "book_tags = pd.read_csv('https://raw.githubusercontent.com/jemceach/612-group/master/project-2/data/book_tags.csv')\n",
    "tags = pd.read_csv('https://raw.githubusercontent.com/jemceach/612-group/master/project-2/data/tags.csv')\n",
    "books = pd.read_csv('https://raw.githubusercontent.com/jemceach/612-group/master/project-2/data/books.csv')\n",
    "ratings = pd.read_csv('https://raw.githubusercontent.com/jemceach/612-group/master/project-2/data/ratings.tar.gz', \n",
    "                      compression='gzip')"
   ]
  },
  {
   "cell_type": "markdown",
   "metadata": {},
   "source": [
    "#### Data Cleaning"
   ]
  },
  {
   "cell_type": "code",
   "execution_count": null,
   "metadata": {},
   "outputs": [],
   "source": [
    "# Clean ratings data\n",
    "ratings = ratings.drop('ratings.csv', axis=1)\n",
    "ratings = ratings[:-1].astype(int)"
   ]
  },
  {
   "cell_type": "code",
   "execution_count": 321,
   "metadata": {},
   "outputs": [
    {
     "data": {
      "text/html": [
       "<div>\n",
       "<style scoped>\n",
       "    .dataframe tbody tr th:only-of-type {\n",
       "        vertical-align: middle;\n",
       "    }\n",
       "\n",
       "    .dataframe tbody tr th {\n",
       "        vertical-align: top;\n",
       "    }\n",
       "\n",
       "    .dataframe thead th {\n",
       "        text-align: right;\n",
       "    }\n",
       "</style>\n",
       "<table border=\"1\" class=\"dataframe\">\n",
       "  <thead>\n",
       "    <tr style=\"text-align: right;\">\n",
       "      <th></th>\n",
       "      <th>book_id</th>\n",
       "      <th>goodreads_book_id</th>\n",
       "      <th>isbn</th>\n",
       "      <th>authors</th>\n",
       "      <th>title</th>\n",
       "      <th>original_publication_year</th>\n",
       "      <th>average_rating</th>\n",
       "      <th>tags</th>\n",
       "    </tr>\n",
       "  </thead>\n",
       "  <tbody>\n",
       "    <tr>\n",
       "      <th>0</th>\n",
       "      <td>1</td>\n",
       "      <td>2767052</td>\n",
       "      <td>439023483</td>\n",
       "      <td>Suzanne Collins</td>\n",
       "      <td>The Hunger Games (The Hunger Games, #1)</td>\n",
       "      <td>2008</td>\n",
       "      <td>4.34</td>\n",
       "      <td>to-read, fantasy, favorites, currently-reading...</td>\n",
       "    </tr>\n",
       "    <tr>\n",
       "      <th>1</th>\n",
       "      <td>2</td>\n",
       "      <td>3</td>\n",
       "      <td>439554934</td>\n",
       "      <td>J.K. Rowling, Mary GrandPré</td>\n",
       "      <td>Harry Potter and the Sorcerer's Stone (Harry P...</td>\n",
       "      <td>1997</td>\n",
       "      <td>4.44</td>\n",
       "      <td>to-read, fantasy, favorites, currently-reading...</td>\n",
       "    </tr>\n",
       "    <tr>\n",
       "      <th>2</th>\n",
       "      <td>3</td>\n",
       "      <td>41865</td>\n",
       "      <td>316015849</td>\n",
       "      <td>Stephenie Meyer</td>\n",
       "      <td>Twilight (Twilight, #1)</td>\n",
       "      <td>2005</td>\n",
       "      <td>3.57</td>\n",
       "      <td>to-read, fantasy, favorites, currently-reading...</td>\n",
       "    </tr>\n",
       "    <tr>\n",
       "      <th>3</th>\n",
       "      <td>4</td>\n",
       "      <td>2657</td>\n",
       "      <td>61120081</td>\n",
       "      <td>Harper Lee</td>\n",
       "      <td>To Kill a Mockingbird</td>\n",
       "      <td>1960</td>\n",
       "      <td>4.25</td>\n",
       "      <td>to-read, favorites, currently-reading, young-a...</td>\n",
       "    </tr>\n",
       "    <tr>\n",
       "      <th>4</th>\n",
       "      <td>5</td>\n",
       "      <td>4671</td>\n",
       "      <td>743273567</td>\n",
       "      <td>F. Scott Fitzgerald</td>\n",
       "      <td>The Great Gatsby</td>\n",
       "      <td>1925</td>\n",
       "      <td>3.89</td>\n",
       "      <td>to-read, favorites, currently-reading, young-a...</td>\n",
       "    </tr>\n",
       "  </tbody>\n",
       "</table>\n",
       "</div>"
      ],
      "text/plain": [
       "   book_id  goodreads_book_id       isbn                      authors  \\\n",
       "0        1            2767052  439023483              Suzanne Collins   \n",
       "1        2                  3  439554934  J.K. Rowling, Mary GrandPré   \n",
       "2        3              41865  316015849              Stephenie Meyer   \n",
       "3        4               2657   61120081                   Harper Lee   \n",
       "4        5               4671  743273567          F. Scott Fitzgerald   \n",
       "\n",
       "                                               title  \\\n",
       "0            The Hunger Games (The Hunger Games, #1)   \n",
       "1  Harry Potter and the Sorcerer's Stone (Harry P...   \n",
       "2                            Twilight (Twilight, #1)   \n",
       "3                              To Kill a Mockingbird   \n",
       "4                                   The Great Gatsby   \n",
       "\n",
       "   original_publication_year  average_rating  \\\n",
       "0                       2008            4.34   \n",
       "1                       1997            4.44   \n",
       "2                       2005            3.57   \n",
       "3                       1960            4.25   \n",
       "4                       1925            3.89   \n",
       "\n",
       "                                                tags  \n",
       "0  to-read, fantasy, favorites, currently-reading...  \n",
       "1  to-read, fantasy, favorites, currently-reading...  \n",
       "2  to-read, fantasy, favorites, currently-reading...  \n",
       "3  to-read, favorites, currently-reading, young-a...  \n",
       "4  to-read, favorites, currently-reading, young-a...  "
      ]
     },
     "execution_count": 321,
     "metadata": {},
     "output_type": "execute_result"
    }
   ],
   "source": [
    "# Clean books data\n",
    "## select only books writen in english \n",
    "filter_list = ['eng', 'en-US', 'en-GB', 'en-CA', 'en']\n",
    "books_df = books[books.language_code.isin(filter_list)]\n",
    "\n",
    "## subset columns\n",
    "books_df = books_df[['book_id', 'goodreads_book_id', 'isbn', 'authors', 'title', 'original_publication_year', 'average_rating']]\n",
    "\n",
    "## drop 15 occurances of no publication year\n",
    "books_df = books_df.dropna(axis=0, subset=['original_publication_year'])\n",
    "\n",
    "## change publication year data type to int\n",
    "books_df['original_publication_year'] = books_df['original_publication_year'].astype(int)\n",
    "\n",
    "## join book_tags, tags, and books dataframes\n",
    "merge_tags = pd.merge(book_tags, tags, on='tag_id')\n",
    "group_tags = pd.DataFrame(merge_tags.groupby('goodreads_book_id')['tag_name'].apply(lambda x: \"%s\" % ', '.join(x)))\n",
    "reindex_tags = jt.reset_index().rename({'tag_name':'tags'}, axis=1).drop('index', axis=1)\n",
    "tagged_books = pd.merge(books_df, reindex_tags, on='goodreads_book_id')\n",
    "\n",
    "## view tagged_books\n",
    "tagged_books.head()"
   ]
  },
  {
   "cell_type": "markdown",
   "metadata": {},
   "source": [
    "## Content-Based Filtering \n",
    "\n",
    "Individually filter recommendations based on books with similar features.\n",
    "\n",
    "#### Item profile\n",
    "\n",
    "We start by creating an item profile for each item which contains features."
   ]
  },
  {
   "cell_type": "markdown",
   "metadata": {},
   "source": [
    "+ Create for each item\n",
    "\n",
    "2) Build user profile"
   ]
  },
  {
   "cell_type": "code",
   "execution_count": 136,
   "metadata": {},
   "outputs": [
    {
     "data": {
      "text/plain": [
       "(8715, 6)"
      ]
     },
     "execution_count": 136,
     "metadata": {},
     "output_type": "execute_result"
    }
   ],
   "source": []
  },
  {
   "cell_type": "code",
   "execution_count": 142,
   "metadata": {},
   "outputs": [
    {
     "data": {
      "text/plain": [
       "0.8715"
      ]
     },
     "execution_count": 142,
     "metadata": {},
     "output_type": "execute_result"
    }
   ],
   "source": [
    "8715/10000"
   ]
  },
  {
   "cell_type": "markdown",
   "metadata": {},
   "source": [
    "## User-User Collaborative Filtering "
   ]
  },
  {
   "cell_type": "markdown",
   "metadata": {},
   "source": [
    "## Item-Item Collaborative Filtering "
   ]
  },
  {
   "cell_type": "markdown",
   "metadata": {},
   "source": [
    "## Summary\n",
    "Please provide at least one graph, and a textual summary of your findings and recommendations. "
   ]
  },
  {
   "cell_type": "markdown",
   "metadata": {},
   "source": [
    "## Sources\n",
    "\n",
    "**To do: figure out jupyter nbconvert citations**\n",
    "\n",
    "http://fastml.com/goodbooks-10k-a-new-dataset-for-book-recommendations/\n",
    "\n",
    "@article{goodbooks2017,\n",
    "    author = {Zajac, Zygmunt},\n",
    "    title = {Goodbooks-10k: a new dataset for book recommendations},\n",
    "    year = {2017},\n",
    "    publisher = {FastML},\n",
    "    journal = {FastML},\n",
    "    howpublished = {\\url{http://fastml.com/goodbooks-10k}},\n",
    "},\n"
   ]
  }
 ],
 "metadata": {
  "kernelspec": {
   "display_name": "Python 3",
   "language": "python",
   "name": "python3"
  },
  "language_info": {
   "codemirror_mode": {
    "name": "ipython",
    "version": 3
   },
   "file_extension": ".py",
   "mimetype": "text/x-python",
   "name": "python",
   "nbconvert_exporter": "python",
   "pygments_lexer": "ipython3",
   "version": "3.7.3"
  }
 },
 "nbformat": 4,
 "nbformat_minor": 2
}
