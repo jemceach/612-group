{
 "cells": [
  {
   "cell_type": "markdown",
   "metadata": {},
   "source": [
    "#### Data 612 - Project 2 : Content-Based and Collaborative Filtering<br>Date: June 18, 2019<br>Team Info: \n",
    "+ Christina Valore\n",
    "+ Juliann McEachern \n",
    "+ Rajwant Mishra\n",
    "\n",
    "<h1 align=\"center\">Goodreads Books Recommender Systems</h1>\n",
    "\n",
    "## Overview\n",
    "\n",
    "Our recommender systems were built from the following datasets, obtained from [goodbooks2017](http://fastml.com/goodbooks-10k-a-new-dataset-for-book-recommendations/):\n",
    "+  `books`\n",
    "+  `book_tags`\n",
    "+  `tags`\n",
    "+  `ratings`\n",
    "\n",
    "#### Dependencies\n",
    "\n",
    "The following python dependecies are required for replication of our work:"
   ]
  },
  {
   "cell_type": "code",
   "execution_count": 5,
   "metadata": {},
   "outputs": [],
   "source": [
    "import numpy as np, pandas as pd, matplotlib.pyplot as plt, sys, os, ipywidgets as widgets, sklearn.metrics, surprise\n",
    "from collections import defaultdict\n",
    "from contextlib import contextmanager\n",
    "from fuzzywuzzy import fuzz, process\n",
    "from IPython.display import display, clear_output\n",
    "from math import sqrt\n",
    "from scipy.spatial.distance import correlation, cosine\n",
    "from sklearn.metrics import pairwise_distances, mean_squared_error\n",
    "from sklearn.metrics.pairwise import cosine_similarity, linear_kernel\n",
    "from sklearn.feature_extraction.text import TfidfVectorizer\n",
    "from sklearn.neighbors import NearestNeighbors\n",
    "from surprise.model_selection import train_test_split\n",
    "from surprise import KNNWithMeans, SVD, Dataset, Reader, accuracy\n",
    "global k,metric"
   ]
  },
  {
   "cell_type": "markdown",
   "metadata": {},
   "source": [
    "#### Data load\n",
    "\n",
    "After loading the necessary packages, we imported the goodbooks datasets from our GitHub repository. We did an initial clean on the data and then conducted additional transformations that corresponded with our different recommender systems. "
   ]
  },
  {
   "cell_type": "code",
   "execution_count": 6,
   "metadata": {},
   "outputs": [
    {
     "data": {
      "text/html": [
       "<div>\n",
       "<style scoped>\n",
       "    .dataframe tbody tr th:only-of-type {\n",
       "        vertical-align: middle;\n",
       "    }\n",
       "\n",
       "    .dataframe tbody tr th {\n",
       "        vertical-align: top;\n",
       "    }\n",
       "\n",
       "    .dataframe thead th {\n",
       "        text-align: right;\n",
       "    }\n",
       "</style>\n",
       "<table border=\"1\" class=\"dataframe\">\n",
       "  <thead>\n",
       "    <tr style=\"text-align: right;\">\n",
       "      <th></th>\n",
       "      <th>book_id</th>\n",
       "      <th>goodreads_book_id</th>\n",
       "      <th>isbn</th>\n",
       "      <th>authors</th>\n",
       "      <th>title</th>\n",
       "      <th>original_publication_year</th>\n",
       "      <th>average_rating</th>\n",
       "    </tr>\n",
       "  </thead>\n",
       "  <tbody>\n",
       "    <tr>\n",
       "      <th>0</th>\n",
       "      <td>1</td>\n",
       "      <td>2767052</td>\n",
       "      <td>439023483</td>\n",
       "      <td>Suzanne Collins</td>\n",
       "      <td>The Hunger Games (The Hunger Games, #1)</td>\n",
       "      <td>2008</td>\n",
       "      <td>4.34</td>\n",
       "    </tr>\n",
       "    <tr>\n",
       "      <th>1</th>\n",
       "      <td>2</td>\n",
       "      <td>3</td>\n",
       "      <td>439554934</td>\n",
       "      <td>J.K. Rowling, Mary GrandPré</td>\n",
       "      <td>Harry Potter and the Sorcerer's Stone (Harry P...</td>\n",
       "      <td>1997</td>\n",
       "      <td>4.44</td>\n",
       "    </tr>\n",
       "    <tr>\n",
       "      <th>2</th>\n",
       "      <td>3</td>\n",
       "      <td>41865</td>\n",
       "      <td>316015849</td>\n",
       "      <td>Stephenie Meyer</td>\n",
       "      <td>Twilight (Twilight, #1)</td>\n",
       "      <td>2005</td>\n",
       "      <td>3.57</td>\n",
       "    </tr>\n",
       "    <tr>\n",
       "      <th>3</th>\n",
       "      <td>4</td>\n",
       "      <td>2657</td>\n",
       "      <td>61120081</td>\n",
       "      <td>Harper Lee</td>\n",
       "      <td>To Kill a Mockingbird</td>\n",
       "      <td>1960</td>\n",
       "      <td>4.25</td>\n",
       "    </tr>\n",
       "    <tr>\n",
       "      <th>4</th>\n",
       "      <td>5</td>\n",
       "      <td>4671</td>\n",
       "      <td>743273567</td>\n",
       "      <td>F. Scott Fitzgerald</td>\n",
       "      <td>The Great Gatsby</td>\n",
       "      <td>1925</td>\n",
       "      <td>3.89</td>\n",
       "    </tr>\n",
       "  </tbody>\n",
       "</table>\n",
       "</div>"
      ],
      "text/plain": [
       "   book_id  goodreads_book_id       isbn                      authors  \\\n",
       "0        1            2767052  439023483              Suzanne Collins   \n",
       "1        2                  3  439554934  J.K. Rowling, Mary GrandPré   \n",
       "2        3              41865  316015849              Stephenie Meyer   \n",
       "3        4               2657   61120081                   Harper Lee   \n",
       "4        5               4671  743273567          F. Scott Fitzgerald   \n",
       "\n",
       "                                               title  \\\n",
       "0            The Hunger Games (The Hunger Games, #1)   \n",
       "1  Harry Potter and the Sorcerer's Stone (Harry P...   \n",
       "2                            Twilight (Twilight, #1)   \n",
       "3                              To Kill a Mockingbird   \n",
       "4                                   The Great Gatsby   \n",
       "\n",
       "   original_publication_year  average_rating  \n",
       "0                       2008            4.34  \n",
       "1                       1997            4.44  \n",
       "2                       2005            3.57  \n",
       "3                       1960            4.25  \n",
       "4                       1925            3.89  "
      ]
     },
     "execution_count": 6,
     "metadata": {},
     "output_type": "execute_result"
    }
   ],
   "source": [
    "# Load data from local csv  into pandas dataframe\n",
    "books = pd.read_csv('https://raw.githubusercontent.com/jemceach/612-group/master/project-2/data/books.csv')\n",
    "book_tags = pd.read_csv('https://raw.githubusercontent.com/jemceach/612-group/master/project-2/data/book_tags.csv')\n",
    "tags = pd.read_csv('https://raw.githubusercontent.com/jemceach/612-group/master/project-2/data/tags.csv')\n",
    "ratings = pd.read_csv('https://raw.githubusercontent.com/jemceach/612-group/master/project-2/data/ratings.tar.gz', \n",
    "                      compression='gzip')\n",
    "\n",
    "# Clean ratings data\n",
    "ratings = ratings.drop('ratings.csv', axis=1)\n",
    "ratings = ratings[:-1].astype(int)\n",
    "\n",
    "# Clean books data\n",
    "## select only books writen in english \n",
    "filter_list = ['eng', 'en-US', 'en-GB', 'en-CA', 'en']\n",
    "books_df = books[books.language_code.isin(filter_list)]\n",
    "\n",
    "## subset columns\n",
    "books_df = books_df[['book_id', 'goodreads_book_id', 'isbn', 'authors', 'title', 'original_publication_year', 'average_rating']]\n",
    "\n",
    "## drop 15 occurances of no publication year\n",
    "books_df = books_df.dropna(axis=0, subset=['original_publication_year'])\n",
    "\n",
    "## change publication year data type to int\n",
    "books_df['original_publication_year'] = books_df['original_publication_year'].astype(int)\n",
    "\n",
    "# preview books dataframe:\n",
    "books_df.head()"
   ]
  },
  {
   "cell_type": "markdown",
   "metadata": {},
   "source": [
    "#### Visualization\n",
    "\n",
    "We wanted to see the range of book ratings from the `ratings` dataset compared to our average ratings from the `book` dataset. Using a bar graph, we found that most users rated books 3 or greater, while 1 and 2 ratings were sparse. And, the histogram of average ratings presented with similiar findings, which showed the data to have a normal distribution, centered around 4, with a left skew."
   ]
  },
  {
   "cell_type": "code",
   "execution_count": 3,
   "metadata": {},
   "outputs": [
    {
     "data": {
      "image/png": "[encoded data removed]",
      "text/plain": [
       "<Figure size 432x288 with 1 Axes>"
      ]
     },
     "metadata": {
      "needs_background": "light"
     },
     "output_type": "display_data"
    },
    {
     "data": {
      "image/png": "[encoded data removed]",
      "text/plain": [
       "<Figure size 432x288 with 1 Axes>"
      ]
     },
     "metadata": {
      "needs_background": "light"
     },
     "output_type": "display_data"
    }
   ],
   "source": [
    "# graph to see the rating scale goes from 1-5, with very few 1 and 2 rating\n",
    "rts_gp = ratings.groupby(by=['rating']).agg({'user_id': 'count'}).reset_index()\n",
    "rts_gp.columns = ['Rating', 'Count']\n",
    "\n",
    "plt.bar(rts_gp.Rating, rts_gp.Count, color='royalblue')\n",
    "plt.title('Number of Ratings', fontsize=15)\n",
    "plt.xlabel('Count', fontsize=10)\n",
    "plt.ylabel('Rating', fontsize=15)\n",
    "plt.grid(ls='dotted')\n",
    "plt.show()\n",
    "\n",
    "# average rating histogram\n",
    "plt.hist(books_df.average_rating, color='lightblue', bins = 5)\n",
    "plt.title('Average Book Rating', fontsize=15)\n",
    "plt.xlabel('Rating Distribution', fontsize=10)\n",
    "plt.ylabel('Frequency', fontsize=15)\n",
    "plt.grid(ls='dotted')\n",
    "plt.show()"
   ]
  },
  {
   "cell_type": "markdown",
   "metadata": {},
   "source": [
    "## Content-Based Filtering \n",
    "\n",
    "We first created a content-based recommender system, through which we individually filtered user recommendations based on unique, item profiles using our `book`, `book_tag`, and `tags` datasets.\n",
    "\n",
    "#### Item Profile \n",
    "\n",
    "Using a few data transformations, we create individual item profiles, which features include concatenated tags describing each book. "
   ]
  },
  {
   "cell_type": "code",
   "execution_count": 4,
   "metadata": {},
   "outputs": [],
   "source": [
    "# CBF Data Cleaning\n",
    "## subset necessary columns\n",
    "subset_books = books_df[['goodreads_book_id', 'title', 'authors']]\n",
    "\n",
    "# join tags and books with tags\n",
    "join_tags = book_tags.set_index('tag_id').join(tags.set_index('tag_id')).drop('count', axis=1)\n",
    "join_book = pd.merge(subset_books, join_tags, on='goodreads_book_id')\n",
    "CBF_tags = join_book.groupby(['goodreads_book_id','title','authors'],\n",
    "                             as_index=False).agg(lambda x:', '.join(x)).rename({'tag_name':'tags'}, axis=1)\n"
   ]
  },
  {
   "cell_type": "markdown",
   "metadata": {},
   "source": [
    "We passed the tags column (or profile) as a vector through a term frequency times inverse document frequency (TF-IDF) matrix. This process mines and scores important words from the profile. \n",
    "\n",
    "We then created the cosine similiarity matrices for book tags to make our recomendation predictions. Finally, we build a `CBF_recommend function`, which uses the cosine similarities  to identify the top *n* matches for a particular book based solely on it's profile.  "
   ]
  },
  {
   "cell_type": "code",
   "execution_count": 5,
   "metadata": {},
   "outputs": [],
   "source": [
    "# Generate TF-IDF matrix for tags\n",
    "vectorizer = TfidfVectorizer(analyzer='word', ngram_range=(1, 3), min_df=0, stop_words='english')\n",
    "\n",
    "# Generate cosine similarity matrix for tags \n",
    "tf_idf_matrix = vectorizer.fit_transform(CBF_tags['tags'])\n",
    "co_sim = linear_kernel(tf_idf_matrix, tf_idf_matrix)\n",
    "\n",
    "# Create list to match title indices in function\n",
    "indices = pd.Series(data=CBF_tags.index, index=CBF_tags['title']) \n",
    "\n",
    "# Book recommendation function \n",
    "def CBF_recommend(title, n):\n",
    "    if n > 0: # logical statement to ensure valid input for n\n",
    "        recommendations = CBF_tags[['title', 'authors']] # set recommendation output: title, author\n",
    "        idx = indices[title] # set index to title\n",
    "        \n",
    "        # list and sort similarity scores \n",
    "        score = pd.DataFrame(enumerate(co_sim[idx]), columns=['ID', 'score']).drop('ID', axis=1).sort_values('score', ascending = False).iloc[1:,]\n",
    "  \n",
    "        # recommend top n books \n",
    "        top_n = score[1:n+1]\n",
    "        test = recommendations.iloc[top_n.index].join(top_n)\n",
    "        test.index = np.arange(1, len(test) + 1)\n",
    "        return test\n",
    "    else: \n",
    "        print(\"Select a value greater than 0 and try again.\")"
   ]
  },
  {
   "cell_type": "markdown",
   "metadata": {},
   "source": [
    "#### Content-Based Filtering Examples"
   ]
  },
  {
   "cell_type": "markdown",
   "metadata": {},
   "source": [
    "The following examples are used to test our `CBF_recommend function` and view correlation score of recommended books. "
   ]
  },
  {
   "cell_type": "code",
   "execution_count": 6,
   "metadata": {},
   "outputs": [
    {
     "data": {
      "text/html": [
       "<div>\n",
       "<style scoped>\n",
       "    .dataframe tbody tr th:only-of-type {\n",
       "        vertical-align: middle;\n",
       "    }\n",
       "\n",
       "    .dataframe tbody tr th {\n",
       "        vertical-align: top;\n",
       "    }\n",
       "\n",
       "    .dataframe thead th {\n",
       "        text-align: right;\n",
       "    }\n",
       "</style>\n",
       "<table border=\"1\" class=\"dataframe\">\n",
       "  <thead>\n",
       "    <tr style=\"text-align: right;\">\n",
       "      <th></th>\n",
       "      <th>title</th>\n",
       "      <th>authors</th>\n",
       "      <th>score</th>\n",
       "    </tr>\n",
       "  </thead>\n",
       "  <tbody>\n",
       "    <tr>\n",
       "      <th>1</th>\n",
       "      <td>Of Mice and Men</td>\n",
       "      <td>John Steinbeck</td>\n",
       "      <td>0.520756</td>\n",
       "    </tr>\n",
       "    <tr>\n",
       "      <th>2</th>\n",
       "      <td>The Great Gatsby</td>\n",
       "      <td>F. Scott Fitzgerald</td>\n",
       "      <td>0.512937</td>\n",
       "    </tr>\n",
       "    <tr>\n",
       "      <th>3</th>\n",
       "      <td>Lord of the Flies</td>\n",
       "      <td>William Golding</td>\n",
       "      <td>0.495611</td>\n",
       "    </tr>\n",
       "  </tbody>\n",
       "</table>\n",
       "</div>"
      ],
      "text/plain": [
       "               title              authors     score\n",
       "1    Of Mice and Men       John Steinbeck  0.520756\n",
       "2   The Great Gatsby  F. Scott Fitzgerald  0.512937\n",
       "3  Lord of the Flies      William Golding  0.495611"
      ]
     },
     "execution_count": 6,
     "metadata": {},
     "output_type": "execute_result"
    }
   ],
   "source": [
    "CBF_recommend('To Kill a Mockingbird', 3)"
   ]
  },
  {
   "cell_type": "code",
   "execution_count": 7,
   "metadata": {},
   "outputs": [
    {
     "data": {
      "text/html": [
       "<div>\n",
       "<style scoped>\n",
       "    .dataframe tbody tr th:only-of-type {\n",
       "        vertical-align: middle;\n",
       "    }\n",
       "\n",
       "    .dataframe tbody tr th {\n",
       "        vertical-align: top;\n",
       "    }\n",
       "\n",
       "    .dataframe thead th {\n",
       "        text-align: right;\n",
       "    }\n",
       "</style>\n",
       "<table border=\"1\" class=\"dataframe\">\n",
       "  <thead>\n",
       "    <tr style=\"text-align: right;\">\n",
       "      <th></th>\n",
       "      <th>title</th>\n",
       "      <th>authors</th>\n",
       "      <th>score</th>\n",
       "    </tr>\n",
       "  </thead>\n",
       "  <tbody>\n",
       "    <tr>\n",
       "      <th>1</th>\n",
       "      <td>The Tenth Circle</td>\n",
       "      <td>Jodi Picoult</td>\n",
       "      <td>0.352290</td>\n",
       "    </tr>\n",
       "    <tr>\n",
       "      <th>2</th>\n",
       "      <td>Salem Falls</td>\n",
       "      <td>Jodi Picoult</td>\n",
       "      <td>0.344947</td>\n",
       "    </tr>\n",
       "    <tr>\n",
       "      <th>3</th>\n",
       "      <td>Handle with Care</td>\n",
       "      <td>Jodi Picoult</td>\n",
       "      <td>0.323359</td>\n",
       "    </tr>\n",
       "  </tbody>\n",
       "</table>\n",
       "</div>"
      ],
      "text/plain": [
       "              title       authors     score\n",
       "1  The Tenth Circle  Jodi Picoult  0.352290\n",
       "2       Salem Falls  Jodi Picoult  0.344947\n",
       "3  Handle with Care  Jodi Picoult  0.323359"
      ]
     },
     "execution_count": 7,
     "metadata": {},
     "output_type": "execute_result"
    }
   ],
   "source": [
    "CBF_recommend('Nineteen Minutes', 3)"
   ]
  },
  {
   "cell_type": "code",
   "execution_count": 8,
   "metadata": {},
   "outputs": [
    {
     "data": {
      "text/html": [
       "<div>\n",
       "<style scoped>\n",
       "    .dataframe tbody tr th:only-of-type {\n",
       "        vertical-align: middle;\n",
       "    }\n",
       "\n",
       "    .dataframe tbody tr th {\n",
       "        vertical-align: top;\n",
       "    }\n",
       "\n",
       "    .dataframe thead th {\n",
       "        text-align: right;\n",
       "    }\n",
       "</style>\n",
       "<table border=\"1\" class=\"dataframe\">\n",
       "  <thead>\n",
       "    <tr style=\"text-align: right;\">\n",
       "      <th></th>\n",
       "      <th>title</th>\n",
       "      <th>authors</th>\n",
       "      <th>score</th>\n",
       "    </tr>\n",
       "  </thead>\n",
       "  <tbody>\n",
       "    <tr>\n",
       "      <th>1</th>\n",
       "      <td>A Feast for Crows (A Song of Ice and Fire, #4)</td>\n",
       "      <td>George R.R. Martin</td>\n",
       "      <td>0.685404</td>\n",
       "    </tr>\n",
       "    <tr>\n",
       "      <th>2</th>\n",
       "      <td>A Dance with Dragons (A Song of Ice and Fire, #5)</td>\n",
       "      <td>George R.R. Martin</td>\n",
       "      <td>0.676312</td>\n",
       "    </tr>\n",
       "    <tr>\n",
       "      <th>3</th>\n",
       "      <td>A Storm of Swords (A Song of Ice and Fire, #3)</td>\n",
       "      <td>George R.R. Martin</td>\n",
       "      <td>0.661021</td>\n",
       "    </tr>\n",
       "  </tbody>\n",
       "</table>\n",
       "</div>"
      ],
      "text/plain": [
       "                                               title             authors  \\\n",
       "1     A Feast for Crows (A Song of Ice and Fire, #4)  George R.R. Martin   \n",
       "2  A Dance with Dragons (A Song of Ice and Fire, #5)  George R.R. Martin   \n",
       "3     A Storm of Swords (A Song of Ice and Fire, #3)  George R.R. Martin   \n",
       "\n",
       "      score  \n",
       "1  0.685404  \n",
       "2  0.676312  \n",
       "3  0.661021  "
      ]
     },
     "execution_count": 8,
     "metadata": {},
     "output_type": "execute_result"
    }
   ],
   "source": [
    "CBF_recommend('A Game of Thrones (A Song of Ice and Fire, #1)', 3)"
   ]
  },
  {
   "cell_type": "markdown",
   "metadata": {},
   "source": [
    "#### Content-Based Recommendations from User Input \n",
    "\n",
    "The `booksearch function` below allows users to search for book titles within our goodbooks compilation. Users can take the output to guide their search for specific item recommendations. "
   ]
  },
  {
   "cell_type": "code",
   "execution_count": 9,
   "metadata": {},
   "outputs": [
    {
     "name": "stdout",
     "output_type": "stream",
     "text": [
      "Search book titles: giving\n",
      "The Giving Tree\n",
      "We the Living\n",
      "How to Stop Worrying and Start Living\n",
      "Death: The High Cost of Living Collected\n",
      "Living History\n"
     ]
    }
   ],
   "source": [
    "choices = CBF_tags['title']\n",
    "search_value = input(\"Search book titles: \")\n",
    "\n",
    "def booksearch(title):\n",
    "    fuzzy = process.extract(search_value, choices)\n",
    "    results = [x[0] for x in fuzzy]\n",
    "    print(\"\\n\".join(str(x) for x in results))\n",
    "\n",
    "booksearch(search_value)"
   ]
  },
  {
   "cell_type": "markdown",
   "metadata": {},
   "source": [
    "We also created a `title_recommendations function`, which uses the `fuzzy` package to find the best title matches from the user's input and runs the selection through our content-based recommender. We found this best as many of the titles from the goodreads collection had specific title formatting the average user may not be aware of. This function also allows users to select the number of recommendations they wish to receive. "
   ]
  },
  {
   "cell_type": "code",
   "execution_count": 10,
   "metadata": {},
   "outputs": [
    {
     "name": "stdout",
     "output_type": "stream",
     "text": [
      "Input book title to view recommendations: giving\n",
      "Input number of recommendations you would like to receive: 10\n",
      "\n",
      " Recommending titles based on the book:  The Giving Tree\n"
     ]
    },
    {
     "data": {
      "text/html": [
       "<div>\n",
       "<style scoped>\n",
       "    .dataframe tbody tr th:only-of-type {\n",
       "        vertical-align: middle;\n",
       "    }\n",
       "\n",
       "    .dataframe tbody tr th {\n",
       "        vertical-align: top;\n",
       "    }\n",
       "\n",
       "    .dataframe thead th {\n",
       "        text-align: right;\n",
       "    }\n",
       "</style>\n",
       "<table border=\"1\" class=\"dataframe\">\n",
       "  <thead>\n",
       "    <tr style=\"text-align: right;\">\n",
       "      <th></th>\n",
       "      <th>title</th>\n",
       "      <th>authors</th>\n",
       "      <th>score</th>\n",
       "    </tr>\n",
       "  </thead>\n",
       "  <tbody>\n",
       "    <tr>\n",
       "      <th>1</th>\n",
       "      <td>Oh, The Places You'll Go!</td>\n",
       "      <td>Dr. Seuss</td>\n",
       "      <td>0.706781</td>\n",
       "    </tr>\n",
       "    <tr>\n",
       "      <th>2</th>\n",
       "      <td>A Light in the Attic</td>\n",
       "      <td>Shel Silverstein</td>\n",
       "      <td>0.696062</td>\n",
       "    </tr>\n",
       "    <tr>\n",
       "      <th>3</th>\n",
       "      <td>The Velveteen Rabbit</td>\n",
       "      <td>Margery Williams Bianco, William   Nicholson</td>\n",
       "      <td>0.680955</td>\n",
       "    </tr>\n",
       "    <tr>\n",
       "      <th>4</th>\n",
       "      <td>The Poky Little Puppy (A Little Golden Book)</td>\n",
       "      <td>Janette Sebring Lowrey, Gustaf Tenggren</td>\n",
       "      <td>0.634173</td>\n",
       "    </tr>\n",
       "    <tr>\n",
       "      <th>5</th>\n",
       "      <td>Where the Wild Things Are</td>\n",
       "      <td>Maurice Sendak</td>\n",
       "      <td>0.631628</td>\n",
       "    </tr>\n",
       "    <tr>\n",
       "      <th>6</th>\n",
       "      <td>Green Eggs and Ham</td>\n",
       "      <td>Dr. Seuss, לאה נאור</td>\n",
       "      <td>0.630845</td>\n",
       "    </tr>\n",
       "    <tr>\n",
       "      <th>7</th>\n",
       "      <td>Curious George</td>\n",
       "      <td>H.A. Rey</td>\n",
       "      <td>0.611664</td>\n",
       "    </tr>\n",
       "    <tr>\n",
       "      <th>8</th>\n",
       "      <td>The Lorax</td>\n",
       "      <td>Dr. Seuss</td>\n",
       "      <td>0.606271</td>\n",
       "    </tr>\n",
       "    <tr>\n",
       "      <th>9</th>\n",
       "      <td>Alexander and the Terrible, Horrible, No Good,...</td>\n",
       "      <td>Judith Viorst, Ray Cruz</td>\n",
       "      <td>0.606162</td>\n",
       "    </tr>\n",
       "    <tr>\n",
       "      <th>10</th>\n",
       "      <td>Goodnight Moon</td>\n",
       "      <td>Margaret Wise Brown, Clement Hurd</td>\n",
       "      <td>0.606032</td>\n",
       "    </tr>\n",
       "  </tbody>\n",
       "</table>\n",
       "</div>"
      ],
      "text/plain": [
       "                                                title  \\\n",
       "1                           Oh, The Places You'll Go!   \n",
       "2                                A Light in the Attic   \n",
       "3                                The Velveteen Rabbit   \n",
       "4        The Poky Little Puppy (A Little Golden Book)   \n",
       "5                           Where the Wild Things Are   \n",
       "6                                  Green Eggs and Ham   \n",
       "7                                      Curious George   \n",
       "8                                           The Lorax   \n",
       "9   Alexander and the Terrible, Horrible, No Good,...   \n",
       "10                                     Goodnight Moon   \n",
       "\n",
       "                                         authors     score  \n",
       "1                                      Dr. Seuss  0.706781  \n",
       "2                               Shel Silverstein  0.696062  \n",
       "3   Margery Williams Bianco, William   Nicholson  0.680955  \n",
       "4        Janette Sebring Lowrey, Gustaf Tenggren  0.634173  \n",
       "5                                 Maurice Sendak  0.631628  \n",
       "6                            Dr. Seuss, לאה נאור  0.630845  \n",
       "7                                       H.A. Rey  0.611664  \n",
       "8                                      Dr. Seuss  0.606271  \n",
       "9                        Judith Viorst, Ray Cruz  0.606162  \n",
       "10             Margaret Wise Brown, Clement Hurd  0.606032  "
      ]
     },
     "execution_count": 10,
     "metadata": {},
     "output_type": "execute_result"
    }
   ],
   "source": [
    "title_input = input(\"Input book title to view recommendations: \")\n",
    "    \n",
    "def title_recommendations(title): \n",
    "    recommend_n = input(\"Input number of recommendations you would like to receive: \")\n",
    "    user_selection = process.extractOne(title_input, choices)[0]\n",
    "    print(\"\\n Recommending titles based on the book: \",user_selection)\n",
    "    return CBF_recommend(user_selection, int(recommend_n))\n",
    "\n",
    "title_recommendations(title_input)"
   ]
  },
  {
   "cell_type": "markdown",
   "metadata": {},
   "source": [
    "#### Content-Based Analysis\n",
    "\n",
    "Upon initial review, the `CBF_recommend` function appears to match book recommendations very effectively based the created item profiles. This method works nicely because it does not require data on other users and does not rate our items based on popularity. \n",
    "\n",
    "However, we found this method suffered from a common drawback of the content-based approach, over-specification. Unlike the \"To Kill a Mockingbird\" recommendations, we see that the top recommender results for \"Nineteen Minutes\" and \"A Game of Thrones\" are for other novels written by the same authors as the book we searched for.  "
   ]
  },
  {
   "cell_type": "markdown",
   "metadata": {},
   "source": [
    "## User-User Collaborative Filtering "
   ]
  },
  {
   "cell_type": "markdown",
   "metadata": {},
   "source": [
    "Our next system was created using user-user collaborative filtering methods. According to [Towards Data Science](https://towardsdatascience.com/), user-user collaborative filtering is defined as: \"products [that] are recommended to a user based on the fact that the products have been liked by users similar to the user. For example if Derrick and Dennis like the same movies and a new movie comes out that Derick likes,then we can recommend that movie to Dennis because Derrick and Dennis seem to like the same movies.\"\n",
    "\n",
    "For this section, we focused on using the `suprise` package, which is a library specifically for building and testing recommender systems. The two methods we tested out are neighborhood methods and matrix factorization. \n",
    "\n",
    "#### Data Preparation\n",
    "\n",
    "We intially tried to run the entire set, however the kernel would stop - too much data! So, we subsetted the data by taking a random sample of 10,000 ratings and matched it against the books data."
   ]
  },
  {
   "cell_type": "code",
   "execution_count": 11,
   "metadata": {},
   "outputs": [
    {
     "data": {
      "text/html": [
       "<div>\n",
       "<style scoped>\n",
       "    .dataframe tbody tr th:only-of-type {\n",
       "        vertical-align: middle;\n",
       "    }\n",
       "\n",
       "    .dataframe tbody tr th {\n",
       "        vertical-align: top;\n",
       "    }\n",
       "\n",
       "    .dataframe thead th {\n",
       "        text-align: right;\n",
       "    }\n",
       "</style>\n",
       "<table border=\"1\" class=\"dataframe\">\n",
       "  <thead>\n",
       "    <tr style=\"text-align: right;\">\n",
       "      <th></th>\n",
       "      <th>book_id</th>\n",
       "      <th>user_id</th>\n",
       "      <th>rating</th>\n",
       "      <th>title</th>\n",
       "    </tr>\n",
       "  </thead>\n",
       "  <tbody>\n",
       "    <tr>\n",
       "      <th>0</th>\n",
       "      <td>1</td>\n",
       "      <td>15124</td>\n",
       "      <td>5</td>\n",
       "      <td>The Hunger Games (The Hunger Games, #1)</td>\n",
       "    </tr>\n",
       "    <tr>\n",
       "      <th>1</th>\n",
       "      <td>1</td>\n",
       "      <td>49970</td>\n",
       "      <td>5</td>\n",
       "      <td>The Hunger Games (The Hunger Games, #1)</td>\n",
       "    </tr>\n",
       "    <tr>\n",
       "      <th>2</th>\n",
       "      <td>1</td>\n",
       "      <td>20546</td>\n",
       "      <td>5</td>\n",
       "      <td>The Hunger Games (The Hunger Games, #1)</td>\n",
       "    </tr>\n",
       "    <tr>\n",
       "      <th>3</th>\n",
       "      <td>1</td>\n",
       "      <td>15073</td>\n",
       "      <td>4</td>\n",
       "      <td>The Hunger Games (The Hunger Games, #1)</td>\n",
       "    </tr>\n",
       "    <tr>\n",
       "      <th>4</th>\n",
       "      <td>1</td>\n",
       "      <td>49879</td>\n",
       "      <td>5</td>\n",
       "      <td>The Hunger Games (The Hunger Games, #1)</td>\n",
       "    </tr>\n",
       "  </tbody>\n",
       "</table>\n",
       "</div>"
      ],
      "text/plain": [
       "   book_id  user_id  rating                                    title\n",
       "0        1    15124       5  The Hunger Games (The Hunger Games, #1)\n",
       "1        1    49970       5  The Hunger Games (The Hunger Games, #1)\n",
       "2        1    20546       5  The Hunger Games (The Hunger Games, #1)\n",
       "3        1    15073       4  The Hunger Games (The Hunger Games, #1)\n",
       "4        1    49879       5  The Hunger Games (The Hunger Games, #1)"
      ]
     },
     "execution_count": 11,
     "metadata": {},
     "output_type": "execute_result"
    }
   ],
   "source": [
    "# took a smaller subset of the ratings and \n",
    "# combined the books and ratings data frames on book_id \n",
    "sub_ratings=ratings.sample(n=10000)\n",
    "combined = pd.merge(books, sub_ratings, on = 'book_id')\n",
    "\n",
    "# subsetting the movie-ratings data to only include columns needed for this analysis\n",
    "subset_ratings_movies = combined[['book_id', 'user_id','rating', 'title']]\n",
    "\n",
    "subset_ratings_movies.head()"
   ]
  },
  {
   "cell_type": "markdown",
   "metadata": {},
   "source": [
    "#### KNN \n",
    "\n",
    "We first attempted to use the KNN algorithm, or k-Nearest Neighbor for our recommender system. This algorithm assumes that things in close proximity are similar. It has been described as the idea of 'Birds of a feather flock together\". The algorithm takes into account similarity by calculating the distance in between. \n",
    "\n",
    "The suprise package has a built in kNN function which we utilized to to train our model. We also made use of a piece of code created by suprise that prints out the top n recommended books. "
   ]
  },
  {
   "cell_type": "code",
   "execution_count": 12,
   "metadata": {},
   "outputs": [],
   "source": [
    "# The suprise package does not have native functionality to print out top recommendations, so we used the code from the FAQ section here\n",
    "# https://surprise.readthedocs.io/en/stable/FAQ.html#how-to-get-the-top-n-recommendations-for-each-user\n",
    "\n",
    "def get_top_n(predictions, n=10):\n",
    "    '''Return the top-N recommendation for each user from a set of predictions.\n",
    "\n",
    "    Args:\n",
    "        predictions(list of Prediction objects): The list of predictions, as\n",
    "            returned by the test method of an algorithm.\n",
    "        n(int): The number of recommendation to output for each user. Default\n",
    "            is 10.\n",
    "\n",
    "    Returns:\n",
    "    A dict where keys are user (raw) ids and values are lists of tuples:\n",
    "        [(raw item id, rating estimation), ...] of size n.\n",
    "    '''\n",
    "\n",
    "    # First map the predictions to each user.\n",
    "    top_n = defaultdict(list)\n",
    "    for uid, iid, true_r, est, _ in predictions:\n",
    "        top_n[uid].append((iid, est))\n",
    "\n",
    "    # Then sort the predictions for each user and retrieve the k highest ones.\n",
    "    for uid, user_ratings in top_n.items():\n",
    "        user_ratings.sort(key=lambda x: x[1], reverse=True)\n",
    "        top_n[uid] = user_ratings[:n]\n",
    "\n",
    "    return top_n"
   ]
  },
  {
   "cell_type": "code",
   "execution_count": 13,
   "metadata": {},
   "outputs": [],
   "source": [
    "# Set the rating scale from 1 to 5\n",
    "reader = Reader(rating_scale=(1, 5))\n",
    "#load the subsetted data from above\n",
    "data = Dataset.load_from_df(subset_ratings_movies[['user_id', 'book_id', 'rating']], reader)"
   ]
  },
  {
   "cell_type": "code",
   "execution_count": 14,
   "metadata": {},
   "outputs": [],
   "source": [
    "# create train and test datasets, with the test size at 25% of the original\n",
    "trainset, testset = train_test_split(data, test_size=0.25)"
   ]
  },
  {
   "cell_type": "code",
   "execution_count": 15,
   "metadata": {},
   "outputs": [
    {
     "name": "stdout",
     "output_type": "stream",
     "text": [
      "Estimating biases using als...\n",
      "Computing the pearson_baseline similarity matrix...\n",
      "Done computing similarity matrix.\n"
     ]
    }
   ],
   "source": [
    "# use the KNN with means method to train the model\n",
    "algo = KNNWithMeans(k=101, sim_options={'name': 'pearson_baseline', 'user_based': True})\n",
    "algo.fit(trainset)\n",
    "# generate predictions on the test set\n",
    "predictions = algo.test(testset)"
   ]
  },
  {
   "cell_type": "code",
   "execution_count": 16,
   "metadata": {},
   "outputs": [
    {
     "data": {
      "text/html": [
       "<div>\n",
       "<style scoped>\n",
       "    .dataframe tbody tr th:only-of-type {\n",
       "        vertical-align: middle;\n",
       "    }\n",
       "\n",
       "    .dataframe tbody tr th {\n",
       "        vertical-align: top;\n",
       "    }\n",
       "\n",
       "    .dataframe thead th {\n",
       "        text-align: right;\n",
       "    }\n",
       "</style>\n",
       "<table border=\"1\" class=\"dataframe\">\n",
       "  <thead>\n",
       "    <tr style=\"text-align: right;\">\n",
       "      <th></th>\n",
       "      <th>book_id</th>\n",
       "      <th>goodreads_book_id</th>\n",
       "      <th>best_book_id</th>\n",
       "      <th>work_id</th>\n",
       "      <th>books_count</th>\n",
       "      <th>isbn</th>\n",
       "      <th>isbn13</th>\n",
       "      <th>authors</th>\n",
       "      <th>original_publication_year</th>\n",
       "      <th>original_title</th>\n",
       "      <th>...</th>\n",
       "      <th>ratings_count</th>\n",
       "      <th>work_ratings_count</th>\n",
       "      <th>work_text_reviews_count</th>\n",
       "      <th>ratings_1</th>\n",
       "      <th>ratings_2</th>\n",
       "      <th>ratings_3</th>\n",
       "      <th>ratings_4</th>\n",
       "      <th>ratings_5</th>\n",
       "      <th>image_url</th>\n",
       "      <th>small_image_url</th>\n",
       "    </tr>\n",
       "  </thead>\n",
       "  <tbody>\n",
       "    <tr>\n",
       "      <th>547</th>\n",
       "      <td>548</td>\n",
       "      <td>162085</td>\n",
       "      <td>162085</td>\n",
       "      <td>2191061</td>\n",
       "      <td>75</td>\n",
       "      <td>60887303</td>\n",
       "      <td>9.780061e+12</td>\n",
       "      <td>Sara Shepard</td>\n",
       "      <td>2006.0</td>\n",
       "      <td>Pretty Little Liars</td>\n",
       "      <td>...</td>\n",
       "      <td>156328</td>\n",
       "      <td>165836</td>\n",
       "      <td>8160</td>\n",
       "      <td>5743</td>\n",
       "      <td>12397</td>\n",
       "      <td>37519</td>\n",
       "      <td>47724</td>\n",
       "      <td>62453</td>\n",
       "      <td>https://images.gr-assets.com/books/1377830522m...</td>\n",
       "      <td>https://images.gr-assets.com/books/1377830522s...</td>\n",
       "    </tr>\n",
       "  </tbody>\n",
       "</table>\n",
       "<p>1 rows × 23 columns</p>\n",
       "</div>"
      ],
      "text/plain": [
       "     book_id  goodreads_book_id  best_book_id  work_id  books_count      isbn  \\\n",
       "547      548             162085        162085  2191061           75  60887303   \n",
       "\n",
       "           isbn13       authors  original_publication_year  \\\n",
       "547  9.780061e+12  Sara Shepard                     2006.0   \n",
       "\n",
       "          original_title  ... ratings_count work_ratings_count  \\\n",
       "547  Pretty Little Liars  ...        156328             165836   \n",
       "\n",
       "     work_text_reviews_count  ratings_1  ratings_2  ratings_3  ratings_4  \\\n",
       "547                     8160       5743      12397      37519      47724   \n",
       "\n",
       "     ratings_5                                          image_url  \\\n",
       "547      62453  https://images.gr-assets.com/books/1377830522m...   \n",
       "\n",
       "                                       small_image_url  \n",
       "547  https://images.gr-assets.com/books/1377830522s...  \n",
       "\n",
       "[1 rows x 23 columns]"
      ]
     },
     "execution_count": 16,
     "metadata": {},
     "output_type": "execute_result"
    }
   ],
   "source": [
    "# place predictions into top function to see top predictions per user\n",
    "top_n = get_top_n(predictions)\n",
    "\n",
    "#print recommended top books for each user, commented this out as the print out was too long\n",
    "#for uid, user_ratings in top_n.items():\n",
    "    #print(uid, [iid for (iid, _) in user_ratings])\n",
    "    \n",
    "    #output example:\n",
    "    #47181 [794, 123]\n",
    "    #25346 [3345]\n",
    "    #36659 [31]\n",
    "    #51983 [548, 5417, 163]\n",
    "    \n",
    "#Looking at the last user_id=51983, let us see the recommended books:\n",
    "books.loc[books['book_id'] == 548] #Pretty Little Liars"
   ]
  },
  {
   "cell_type": "code",
   "execution_count": 17,
   "metadata": {},
   "outputs": [
    {
     "data": {
      "text/html": [
       "<div>\n",
       "<style scoped>\n",
       "    .dataframe tbody tr th:only-of-type {\n",
       "        vertical-align: middle;\n",
       "    }\n",
       "\n",
       "    .dataframe tbody tr th {\n",
       "        vertical-align: top;\n",
       "    }\n",
       "\n",
       "    .dataframe thead th {\n",
       "        text-align: right;\n",
       "    }\n",
       "</style>\n",
       "<table border=\"1\" class=\"dataframe\">\n",
       "  <thead>\n",
       "    <tr style=\"text-align: right;\">\n",
       "      <th></th>\n",
       "      <th>book_id</th>\n",
       "      <th>goodreads_book_id</th>\n",
       "      <th>best_book_id</th>\n",
       "      <th>work_id</th>\n",
       "      <th>books_count</th>\n",
       "      <th>isbn</th>\n",
       "      <th>isbn13</th>\n",
       "      <th>authors</th>\n",
       "      <th>original_publication_year</th>\n",
       "      <th>original_title</th>\n",
       "      <th>...</th>\n",
       "      <th>ratings_count</th>\n",
       "      <th>work_ratings_count</th>\n",
       "      <th>work_text_reviews_count</th>\n",
       "      <th>ratings_1</th>\n",
       "      <th>ratings_2</th>\n",
       "      <th>ratings_3</th>\n",
       "      <th>ratings_4</th>\n",
       "      <th>ratings_5</th>\n",
       "      <th>image_url</th>\n",
       "      <th>small_image_url</th>\n",
       "    </tr>\n",
       "  </thead>\n",
       "  <tbody>\n",
       "    <tr>\n",
       "      <th>5416</th>\n",
       "      <td>5417</td>\n",
       "      <td>64860</td>\n",
       "      <td>64860</td>\n",
       "      <td>62952</td>\n",
       "      <td>57</td>\n",
       "      <td>312939035</td>\n",
       "      <td>9.780313e+12</td>\n",
       "      <td>Sue Grafton</td>\n",
       "      <td>1988.0</td>\n",
       "      <td>E Is for Evidence</td>\n",
       "      <td>...</td>\n",
       "      <td>24206</td>\n",
       "      <td>26160</td>\n",
       "      <td>634</td>\n",
       "      <td>72</td>\n",
       "      <td>659</td>\n",
       "      <td>8053</td>\n",
       "      <td>11032</td>\n",
       "      <td>6344</td>\n",
       "      <td>https://s.gr-assets.com/assets/nophoto/book/11...</td>\n",
       "      <td>https://s.gr-assets.com/assets/nophoto/book/50...</td>\n",
       "    </tr>\n",
       "  </tbody>\n",
       "</table>\n",
       "<p>1 rows × 23 columns</p>\n",
       "</div>"
      ],
      "text/plain": [
       "      book_id  goodreads_book_id  best_book_id  work_id  books_count  \\\n",
       "5416     5417              64860         64860    62952           57   \n",
       "\n",
       "           isbn        isbn13      authors  original_publication_year  \\\n",
       "5416  312939035  9.780313e+12  Sue Grafton                     1988.0   \n",
       "\n",
       "         original_title  ... ratings_count work_ratings_count  \\\n",
       "5416  E Is for Evidence  ...         24206              26160   \n",
       "\n",
       "      work_text_reviews_count  ratings_1  ratings_2  ratings_3  ratings_4  \\\n",
       "5416                      634         72        659       8053      11032   \n",
       "\n",
       "      ratings_5                                          image_url  \\\n",
       "5416       6344  https://s.gr-assets.com/assets/nophoto/book/11...   \n",
       "\n",
       "                                        small_image_url  \n",
       "5416  https://s.gr-assets.com/assets/nophoto/book/50...  \n",
       "\n",
       "[1 rows x 23 columns]"
      ]
     },
     "execution_count": 17,
     "metadata": {},
     "output_type": "execute_result"
    }
   ],
   "source": [
    "books.loc[books['book_id'] == 5417] # E is for Evidence"
   ]
  },
  {
   "cell_type": "code",
   "execution_count": 18,
   "metadata": {},
   "outputs": [
    {
     "data": {
      "text/html": [
       "<div>\n",
       "<style scoped>\n",
       "    .dataframe tbody tr th:only-of-type {\n",
       "        vertical-align: middle;\n",
       "    }\n",
       "\n",
       "    .dataframe tbody tr th {\n",
       "        vertical-align: top;\n",
       "    }\n",
       "\n",
       "    .dataframe thead th {\n",
       "        text-align: right;\n",
       "    }\n",
       "</style>\n",
       "<table border=\"1\" class=\"dataframe\">\n",
       "  <thead>\n",
       "    <tr style=\"text-align: right;\">\n",
       "      <th></th>\n",
       "      <th>book_id</th>\n",
       "      <th>goodreads_book_id</th>\n",
       "      <th>best_book_id</th>\n",
       "      <th>work_id</th>\n",
       "      <th>books_count</th>\n",
       "      <th>isbn</th>\n",
       "      <th>isbn13</th>\n",
       "      <th>authors</th>\n",
       "      <th>original_publication_year</th>\n",
       "      <th>original_title</th>\n",
       "      <th>...</th>\n",
       "      <th>ratings_count</th>\n",
       "      <th>work_ratings_count</th>\n",
       "      <th>work_text_reviews_count</th>\n",
       "      <th>ratings_1</th>\n",
       "      <th>ratings_2</th>\n",
       "      <th>ratings_3</th>\n",
       "      <th>ratings_4</th>\n",
       "      <th>ratings_5</th>\n",
       "      <th>image_url</th>\n",
       "      <th>small_image_url</th>\n",
       "    </tr>\n",
       "  </thead>\n",
       "  <tbody>\n",
       "    <tr>\n",
       "      <th>162</th>\n",
       "      <td>163</td>\n",
       "      <td>7736182</td>\n",
       "      <td>7736182</td>\n",
       "      <td>10107891</td>\n",
       "      <td>72</td>\n",
       "      <td>142311339X</td>\n",
       "      <td>9.781423e+12</td>\n",
       "      <td>Rick Riordan</td>\n",
       "      <td>2010.0</td>\n",
       "      <td>The Lost Hero</td>\n",
       "      <td>...</td>\n",
       "      <td>271576</td>\n",
       "      <td>489495</td>\n",
       "      <td>17107</td>\n",
       "      <td>5020</td>\n",
       "      <td>11267</td>\n",
       "      <td>58590</td>\n",
       "      <td>148498</td>\n",
       "      <td>266120</td>\n",
       "      <td>https://images.gr-assets.com/books/1464201003m...</td>\n",
       "      <td>https://images.gr-assets.com/books/1464201003s...</td>\n",
       "    </tr>\n",
       "  </tbody>\n",
       "</table>\n",
       "<p>1 rows × 23 columns</p>\n",
       "</div>"
      ],
      "text/plain": [
       "     book_id  goodreads_book_id  best_book_id   work_id  books_count  \\\n",
       "162      163            7736182       7736182  10107891           72   \n",
       "\n",
       "           isbn        isbn13       authors  original_publication_year  \\\n",
       "162  142311339X  9.781423e+12  Rick Riordan                     2010.0   \n",
       "\n",
       "    original_title  ... ratings_count work_ratings_count  \\\n",
       "162  The Lost Hero  ...        271576             489495   \n",
       "\n",
       "     work_text_reviews_count  ratings_1  ratings_2  ratings_3  ratings_4  \\\n",
       "162                    17107       5020      11267      58590     148498   \n",
       "\n",
       "     ratings_5                                          image_url  \\\n",
       "162     266120  https://images.gr-assets.com/books/1464201003m...   \n",
       "\n",
       "                                       small_image_url  \n",
       "162  https://images.gr-assets.com/books/1464201003s...  \n",
       "\n",
       "[1 rows x 23 columns]"
      ]
     },
     "execution_count": 18,
     "metadata": {},
     "output_type": "execute_result"
    }
   ],
   "source": [
    "books.loc[books['book_id'] == 163] # The Lost Hero"
   ]
  },
  {
   "cell_type": "code",
   "execution_count": 19,
   "metadata": {},
   "outputs": [
    {
     "name": "stdout",
     "output_type": "stream",
     "text": [
      "User-based Model : Test Set\n",
      "RMSE: 1.0133\n"
     ]
    },
    {
     "data": {
      "text/plain": [
       "1.0132826430514505"
      ]
     },
     "execution_count": 19,
     "metadata": {},
     "output_type": "execute_result"
    }
   ],
   "source": [
    "# check the RMSE for the test set using KNN with means method\n",
    "print(\"User-based Model : Test Set\")\n",
    "accuracy.rmse(predictions, verbose=True)"
   ]
  },
  {
   "cell_type": "markdown",
   "metadata": {},
   "source": [
    "#### SVD\n",
    "\n",
    "We wanted to see if SVD or the singular value decomposition algorithm would help improve upon our RMSE value.\n",
    "\n",
    "SVD works via matrix factorization by reducing the number of features of the dataset by reducing space dimensions from N to K where K < N. This SVD model is built into the suprise package."
   ]
  },
  {
   "cell_type": "code",
   "execution_count": 20,
   "metadata": {},
   "outputs": [
    {
     "data": {
      "text/plain": [
       "<surprise.prediction_algorithms.matrix_factorization.SVD at 0x258833f97f0>"
      ]
     },
     "execution_count": 20,
     "metadata": {},
     "output_type": "execute_result"
    }
   ],
   "source": [
    "# refit the model using the SVD method\n",
    "trainset, testset = train_test_split(data, test_size=0.25)\n",
    "algo = SVD()\n",
    "algo.fit(trainset)"
   ]
  },
  {
   "cell_type": "code",
   "execution_count": 21,
   "metadata": {},
   "outputs": [
    {
     "name": "stdout",
     "output_type": "stream",
     "text": [
      "User-based Model : Test Set\n",
      "RMSE: 0.9842\n"
     ]
    },
    {
     "data": {
      "text/plain": [
       "0.9841925758856128"
      ]
     },
     "execution_count": 21,
     "metadata": {},
     "output_type": "execute_result"
    }
   ],
   "source": [
    "predictions = algo.test(testset)\n",
    "\n",
    "# check the RMSE for the test set using the SVD model\n",
    "print(\"User-based Model : Test Set\")\n",
    "accuracy.rmse(predictions, verbose=True)"
   ]
  },
  {
   "cell_type": "markdown",
   "metadata": {},
   "source": [
    "#### User-User Analysis\n",
    "\n",
    "Our results using the kNN algorithm had a very high RMSE which says our data was fitted well for the train but poorly for our test data. The hardest part was choosing a proper k value to capture enough data for a smart prediction while ignoring the noise. \n",
    "\n",
    "The SVD algorithm faired only slightly better in terms of RMSE, again our model does well with the trained data but not the test data. \n",
    "\n",
    "We would need to rework these models in order to receive any value from the predictions. "
   ]
  },
  {
   "cell_type": "markdown",
   "metadata": {},
   "source": [
    "## Item-Item Collaborative Filtering "
   ]
  },
  {
   "cell_type": "markdown",
   "metadata": {},
   "source": [
    "1. Data Sparsity: In case of large number of items, number of items a user has rated reduces to a tiny percentage making the correlation coefficient less reliable\n",
    "2. User profiles change quickly and the entire system model had to be recomputed which is both time and computationally expensive\n",
    "To cater to these issues, we will use ITEM-ITEM collaborative filtering.\n",
    "\n",
    "<b>ITEM-ITEM collaborative filtering</b>\n",
    "ITEM-ITEM collaborative filtering look for items that are similar to the articles that user has already rated and recommend most similar articles. But what does that mean when we say item-item similarity? In this case we don’t mean whether two items are the same by attribute like Fountain pen and pilot pen are similar because both are pen. Instead, what similarity means is how people treat two items the same in terms of like and dislike.\n",
    "This method is quite stable in itself as compared to User based collaborative filtering because the average item has a lot more ratings than the average user. So an individual rating doesn’t impact as much."
   ]
  },
  {
   "cell_type": "markdown",
   "metadata": {},
   "source": [
    "To calculate similarity between two items, we looks into the set of items the target user has rated and computes how similar they are to the target item i and then selects k most similar items. Similarity between two items is calculated by taking the ratings of the users who have rated both the items and thereafter using the cosine similarity function mentioned below.<br>\n",
    "Once we have the similarity between the items, the prediction is then computed by taking a weighted average of the target user’s ratings on these similar items. The formula to calculate rating is very similar to the user based collaborative filtering except the weights are between items instead of between users. And we use the current users rating for the item or for other items, instead of other users rating for the current items."
   ]
  },
  {
   "cell_type": "code",
   "execution_count": 22,
   "metadata": {},
   "outputs": [
    {
     "data": {
      "text/html": [
       "<div>\n",
       "<style scoped>\n",
       "    .dataframe tbody tr th:only-of-type {\n",
       "        vertical-align: middle;\n",
       "    }\n",
       "\n",
       "    .dataframe tbody tr th {\n",
       "        vertical-align: top;\n",
       "    }\n",
       "\n",
       "    .dataframe thead th {\n",
       "        text-align: right;\n",
       "    }\n",
       "</style>\n",
       "<table border=\"1\" class=\"dataframe\">\n",
       "  <thead>\n",
       "    <tr style=\"text-align: right;\">\n",
       "      <th></th>\n",
       "      <th>book_id</th>\n",
       "      <th>title</th>\n",
       "      <th>user_id</th>\n",
       "      <th>rating</th>\n",
       "    </tr>\n",
       "  </thead>\n",
       "  <tbody>\n",
       "    <tr>\n",
       "      <th>0</th>\n",
       "      <td>4081</td>\n",
       "      <td>I am Charlotte Simmons</td>\n",
       "      <td>2</td>\n",
       "      <td>4</td>\n",
       "    </tr>\n",
       "    <tr>\n",
       "      <th>1</th>\n",
       "      <td>4081</td>\n",
       "      <td>I am Charlotte Simmons</td>\n",
       "      <td>258</td>\n",
       "      <td>5</td>\n",
       "    </tr>\n",
       "    <tr>\n",
       "      <th>2</th>\n",
       "      <td>4081</td>\n",
       "      <td>I am Charlotte Simmons</td>\n",
       "      <td>364</td>\n",
       "      <td>4</td>\n",
       "    </tr>\n",
       "    <tr>\n",
       "      <th>3</th>\n",
       "      <td>4081</td>\n",
       "      <td>I am Charlotte Simmons</td>\n",
       "      <td>316</td>\n",
       "      <td>2</td>\n",
       "    </tr>\n",
       "    <tr>\n",
       "      <th>4</th>\n",
       "      <td>260</td>\n",
       "      <td>How to Win Friends and Influence People</td>\n",
       "      <td>2</td>\n",
       "      <td>5</td>\n",
       "    </tr>\n",
       "  </tbody>\n",
       "</table>\n",
       "</div>"
      ],
      "text/plain": [
       "   book_id                                    title  user_id  rating\n",
       "0     4081                   I am Charlotte Simmons        2       4\n",
       "1     4081                   I am Charlotte Simmons      258       5\n",
       "2     4081                   I am Charlotte Simmons      364       4\n",
       "3     4081                   I am Charlotte Simmons      316       2\n",
       "4      260  How to Win Friends and Influence People        2       5"
      ]
     },
     "execution_count": 22,
     "metadata": {},
     "output_type": "execute_result"
    }
   ],
   "source": [
    "k=4\n",
    "metric='cosine'\n",
    "\n",
    "# Method to show N item from Dict\n",
    "def show_dict_item(n, dict_obj):\n",
    "    return {k: dict_obj[k] for k in list(dict_obj)[:n]}\n",
    "\n",
    "## starting new Test with 10K data\n",
    "test_rating = ratings[1:10000]\n",
    "\n",
    "# combined subsetted dataset \n",
    "test_rating_item = pd.merge(test_rating,books_df)\n",
    "test_rating_item = test_rating_item[['book_id','title','user_id','rating']]\n",
    "test_rating_item.head()"
   ]
  },
  {
   "cell_type": "code",
   "execution_count": 23,
   "metadata": {},
   "outputs": [
    {
     "data": {
      "text/html": [
       "<div>\n",
       "<style scoped>\n",
       "    .dataframe tbody tr th:only-of-type {\n",
       "        vertical-align: middle;\n",
       "    }\n",
       "\n",
       "    .dataframe tbody tr th {\n",
       "        vertical-align: top;\n",
       "    }\n",
       "\n",
       "    .dataframe thead th {\n",
       "        text-align: right;\n",
       "    }\n",
       "</style>\n",
       "<table border=\"1\" class=\"dataframe\">\n",
       "  <thead>\n",
       "    <tr style=\"text-align: right;\">\n",
       "      <th>user_id</th>\n",
       "      <th>1</th>\n",
       "      <th>2</th>\n",
       "      <th>4</th>\n",
       "      <th>6</th>\n",
       "      <th>8</th>\n",
       "      <th>9</th>\n",
       "      <th>10</th>\n",
       "      <th>11</th>\n",
       "      <th>15</th>\n",
       "      <th>18</th>\n",
       "      <th>...</th>\n",
       "      <th>429</th>\n",
       "      <th>439</th>\n",
       "      <th>440</th>\n",
       "      <th>444</th>\n",
       "      <th>446</th>\n",
       "      <th>447</th>\n",
       "      <th>449</th>\n",
       "      <th>452</th>\n",
       "      <th>453</th>\n",
       "      <th>454</th>\n",
       "    </tr>\n",
       "    <tr>\n",
       "      <th>title</th>\n",
       "      <th></th>\n",
       "      <th></th>\n",
       "      <th></th>\n",
       "      <th></th>\n",
       "      <th></th>\n",
       "      <th></th>\n",
       "      <th></th>\n",
       "      <th></th>\n",
       "      <th></th>\n",
       "      <th></th>\n",
       "      <th></th>\n",
       "      <th></th>\n",
       "      <th></th>\n",
       "      <th></th>\n",
       "      <th></th>\n",
       "      <th></th>\n",
       "      <th></th>\n",
       "      <th></th>\n",
       "      <th></th>\n",
       "      <th></th>\n",
       "      <th></th>\n",
       "    </tr>\n",
       "  </thead>\n",
       "  <tbody>\n",
       "    <tr>\n",
       "      <th>Angels (Walsh Family, #3)</th>\n",
       "      <td>0</td>\n",
       "      <td>0</td>\n",
       "      <td>0</td>\n",
       "      <td>0</td>\n",
       "      <td>0</td>\n",
       "      <td>0</td>\n",
       "      <td>0</td>\n",
       "      <td>0</td>\n",
       "      <td>0</td>\n",
       "      <td>0</td>\n",
       "      <td>...</td>\n",
       "      <td>0</td>\n",
       "      <td>0</td>\n",
       "      <td>0</td>\n",
       "      <td>0</td>\n",
       "      <td>0</td>\n",
       "      <td>0</td>\n",
       "      <td>0</td>\n",
       "      <td>0</td>\n",
       "      <td>0</td>\n",
       "      <td>0</td>\n",
       "    </tr>\n",
       "    <tr>\n",
       "      <th>'Salem's Lot</th>\n",
       "      <td>0</td>\n",
       "      <td>0</td>\n",
       "      <td>0</td>\n",
       "      <td>0</td>\n",
       "      <td>0</td>\n",
       "      <td>0</td>\n",
       "      <td>0</td>\n",
       "      <td>0</td>\n",
       "      <td>0</td>\n",
       "      <td>0</td>\n",
       "      <td>...</td>\n",
       "      <td>0</td>\n",
       "      <td>0</td>\n",
       "      <td>0</td>\n",
       "      <td>0</td>\n",
       "      <td>0</td>\n",
       "      <td>0</td>\n",
       "      <td>0</td>\n",
       "      <td>0</td>\n",
       "      <td>0</td>\n",
       "      <td>0</td>\n",
       "    </tr>\n",
       "    <tr>\n",
       "      <th>'Tis (Frank McCourt, #2)</th>\n",
       "      <td>0</td>\n",
       "      <td>0</td>\n",
       "      <td>0</td>\n",
       "      <td>0</td>\n",
       "      <td>0</td>\n",
       "      <td>0</td>\n",
       "      <td>0</td>\n",
       "      <td>0</td>\n",
       "      <td>0</td>\n",
       "      <td>0</td>\n",
       "      <td>...</td>\n",
       "      <td>0</td>\n",
       "      <td>0</td>\n",
       "      <td>0</td>\n",
       "      <td>0</td>\n",
       "      <td>0</td>\n",
       "      <td>0</td>\n",
       "      <td>0</td>\n",
       "      <td>0</td>\n",
       "      <td>0</td>\n",
       "      <td>0</td>\n",
       "    </tr>\n",
       "    <tr>\n",
       "      <th>100 Selected Poems</th>\n",
       "      <td>0</td>\n",
       "      <td>0</td>\n",
       "      <td>0</td>\n",
       "      <td>0</td>\n",
       "      <td>0</td>\n",
       "      <td>0</td>\n",
       "      <td>0</td>\n",
       "      <td>0</td>\n",
       "      <td>0</td>\n",
       "      <td>0</td>\n",
       "      <td>...</td>\n",
       "      <td>0</td>\n",
       "      <td>0</td>\n",
       "      <td>0</td>\n",
       "      <td>0</td>\n",
       "      <td>0</td>\n",
       "      <td>0</td>\n",
       "      <td>0</td>\n",
       "      <td>0</td>\n",
       "      <td>0</td>\n",
       "      <td>0</td>\n",
       "    </tr>\n",
       "    <tr>\n",
       "      <th>1776</th>\n",
       "      <td>0</td>\n",
       "      <td>0</td>\n",
       "      <td>0</td>\n",
       "      <td>0</td>\n",
       "      <td>0</td>\n",
       "      <td>0</td>\n",
       "      <td>0</td>\n",
       "      <td>0</td>\n",
       "      <td>0</td>\n",
       "      <td>0</td>\n",
       "      <td>...</td>\n",
       "      <td>0</td>\n",
       "      <td>0</td>\n",
       "      <td>0</td>\n",
       "      <td>0</td>\n",
       "      <td>0</td>\n",
       "      <td>0</td>\n",
       "      <td>0</td>\n",
       "      <td>0</td>\n",
       "      <td>0</td>\n",
       "      <td>0</td>\n",
       "    </tr>\n",
       "  </tbody>\n",
       "</table>\n",
       "<p>5 rows × 255 columns</p>\n",
       "</div>"
      ],
      "text/plain": [
       "user_id                     1    2    4    6    8    9    10   11   15   18   \\\n",
       "title                                                                          \n",
       " Angels (Walsh Family, #3)    0    0    0    0    0    0    0    0    0    0   \n",
       "'Salem's Lot                  0    0    0    0    0    0    0    0    0    0   \n",
       "'Tis (Frank McCourt, #2)      0    0    0    0    0    0    0    0    0    0   \n",
       "100 Selected Poems            0    0    0    0    0    0    0    0    0    0   \n",
       "1776                          0    0    0    0    0    0    0    0    0    0   \n",
       "\n",
       "user_id                     ...  429  439  440  444  446  447  449  452  453  \\\n",
       "title                       ...                                                \n",
       " Angels (Walsh Family, #3)  ...    0    0    0    0    0    0    0    0    0   \n",
       "'Salem's Lot                ...    0    0    0    0    0    0    0    0    0   \n",
       "'Tis (Frank McCourt, #2)    ...    0    0    0    0    0    0    0    0    0   \n",
       "100 Selected Poems          ...    0    0    0    0    0    0    0    0    0   \n",
       "1776                        ...    0    0    0    0    0    0    0    0    0   \n",
       "\n",
       "user_id                     454  \n",
       "title                            \n",
       " Angels (Walsh Family, #3)    0  \n",
       "'Salem's Lot                  0  \n",
       "'Tis (Frank McCourt, #2)      0  \n",
       "100 Selected Poems            0  \n",
       "1776                          0  \n",
       "\n",
       "[5 rows x 255 columns]"
      ]
     },
     "execution_count": 23,
     "metadata": {},
     "output_type": "execute_result"
    }
   ],
   "source": [
    "test_M1 =pd.pivot_table(test_rating_item,index='user_id',columns='title',values='rating',fill_value=0)\n",
    "\n",
    "test_M1.T.head()"
   ]
  },
  {
   "cell_type": "code",
   "execution_count": 24,
   "metadata": {},
   "outputs": [],
   "source": [
    "# Get 5 similar items from the nearest neighbour \n",
    "n = 5 \n",
    "cosine_nn = NearestNeighbors(n_neighbors=n, algorithm='brute',metric='cosine')\n",
    "item_cosine_nn_fit = cosine_nn.fit(test_M1.T.values)\n",
    "item_distance, item_indices = item_cosine_nn_fit.kneighbors(test_M1.T.values )"
   ]
  },
  {
   "cell_type": "code",
   "execution_count": 25,
   "metadata": {},
   "outputs": [
    {
     "data": {
      "text/plain": [
       "(array([[0.        , 0.17798027, 0.22217421, 0.2602069 , 0.28073273],\n",
       "        [0.        , 0.40911613, 0.41654003, 0.41654003, 0.41654003]]),\n",
       " array([[   1,  986, 1081, 1496, 1233],\n",
       "        [   2,  143,  191, 1606, 2002]], dtype=int64))"
      ]
     },
     "execution_count": 25,
     "metadata": {},
     "output_type": "execute_result"
    }
   ],
   "source": [
    "# Cosine distance and Item \n",
    "# note this is not cosine similarlity , which can be obtained\n",
    "# by doing 1 - cosine distance \n",
    "item_distance,item_indices\n",
    "type(item_distance)\n",
    "item_distance[1:3],item_indices[1:3]"
   ]
  },
  {
   "cell_type": "code",
   "execution_count": 26,
   "metadata": {},
   "outputs": [],
   "source": [
    "# Here we are listing all the book and corresponding 5 recommendation \n",
    "items_dic = {}\n",
    "\n",
    "for i in range (len(test_M1.T.index)):\n",
    "    item_idx = item_indices[i]\n",
    "    col_names = test_M1.T.index[item_idx].tolist()\n",
    "    items_dic[test_M1.T.index[i]] = col_names"
   ]
  },
  {
   "cell_type": "code",
   "execution_count": 27,
   "metadata": {},
   "outputs": [
    {
     "data": {
      "text/plain": [
       "{' Angels (Walsh Family, #3)': ['The Druid of Shannara (Heritage of Shannara, #2)',\n",
       "  'The Elfstones of Shannara  (The Original Shannara Trilogy, #2)',\n",
       "  'Intensity',\n",
       "  'Rose Madder',\n",
       "  'The Black Unicorn (Magic Kingdom of Landover, #2)'],\n",
       " \"'Salem's Lot\": [\"'Salem's Lot\",\n",
       "  'Night Shift',\n",
       "  'Pet Sematary',\n",
       "  'The Dead Zone',\n",
       "  'Skeleton Crew']}"
      ]
     },
     "execution_count": 27,
     "metadata": {},
     "output_type": "execute_result"
    }
   ],
   "source": [
    "# List of the Book recommended by item title \n",
    "show_dict_item(2,items_dic)"
   ]
  },
  {
   "cell_type": "code",
   "execution_count": 28,
   "metadata": {},
   "outputs": [],
   "source": [
    "# Lets find list of Book read by user\n",
    "\n",
    "has_read= {}\n",
    "row_indexes = {}\n",
    "for i,row in test_M1.iterrows():\n",
    "    rows = [x for x in range(0,len(test_M1.columns))]\n",
    "    combine = list(zip(row.index,row.values,rows))\n",
    "    read = [(x,z) for x,y,z in combine if y!=0]\n",
    "    index = [i[1] for i in read]\n",
    "    row_names = [i[0] for i in read]\n",
    "    row_indexes[i] = index\n",
    "    has_read[i] = row_names"
   ]
  },
  {
   "cell_type": "code",
   "execution_count": 29,
   "metadata": {},
   "outputs": [
    {
     "data": {
      "text/plain": [
       "(dict,\n",
       " {1: ['Balzac and the Little Chinese Seamstress',\n",
       "   'Gilead (Gilead, #1)',\n",
       "   'Housekeeping',\n",
       "   'Never Let Me Go',\n",
       "   'The Book Thief',\n",
       "   'The History of Love',\n",
       "   'The Sea'],\n",
       "  2: ['Harry Potter Collection (Harry Potter, #1-6)',\n",
       "   'Heart of Darkness',\n",
       "   'How to Win Friends and Influence People',\n",
       "   'I am Charlotte Simmons',\n",
       "   'Memoirs of a Geisha',\n",
       "   'The Da Vinci Code (Robert Langdon, #2)',\n",
       "   'The Drama of the Gifted Child: The Search for the True Self',\n",
       "   'The House of God',\n",
       "   'The Millionaire Next Door: The Surprising Secrets of Americas Wealthy',\n",
       "   'Who Moved My Cheese?']})"
      ]
     },
     "execution_count": 29,
     "metadata": {},
     "output_type": "execute_result"
    }
   ],
   "source": [
    "# has_read.items()\n",
    "type(has_read),show_dict_item(2,has_read)"
   ]
  },
  {
   "cell_type": "code",
   "execution_count": 30,
   "metadata": {},
   "outputs": [
    {
     "data": {
      "text/plain": [
       "(dict,\n",
       " {1: [197, 581, 688, 977, 1405, 1616, 1875],\n",
       "  2: [633, 647, 692, 705, 899, 1486, 1518, 1629, 1737, 2162]})"
      ]
     },
     "execution_count": 30,
     "metadata": {},
     "output_type": "execute_result"
    }
   ],
   "source": [
    "#row_indexes.items(),\n",
    "type(row_indexes),show_dict_item(2,row_indexes)"
   ]
  },
  {
   "cell_type": "code",
   "execution_count": 31,
   "metadata": {},
   "outputs": [
    {
     "data": {
      "text/plain": [
       "array([[   1,  986, 1081, 1496, 1233],\n",
       "       [   2,  143,  191, 1606, 2002],\n",
       "       [  11,    3,  256,   69, 1764],\n",
       "       [   4, 1303,  894, 1837, 1453]], dtype=int64)"
      ]
     },
     "execution_count": 31,
     "metadata": {},
     "output_type": "execute_result"
    }
   ],
   "source": [
    "item_indices[1:5]"
   ]
  },
  {
   "cell_type": "code",
   "execution_count": 32,
   "metadata": {},
   "outputs": [],
   "source": [
    "# Sample of data \n",
    "# item_indexs = (454, [5, 83, 215, 302, 437, 1031, 1707, 2063, 2098])  i.e. User and Book ID of the read books\n",
    "# item_distance = (array([[0.        , 0.17798027, 0.22217421, 0.2602069 , 0.28073273],\n",
    "#         [0.        , 0.40911613, 0.41654003, 0.41654003, 0.41654003]]),\n",
    "# item_indices =  array([[   1,  986, 1081, 1496, 1233],\n",
    "#         [   2,  143,  191, 1606, 2002]], dtype=int64))\n",
    "#-----------------------------------------------------------------------------------------------------------------\n",
    "# We will read all Book read by User 454 , and find the similar book from item_indices and item_distance\n",
    "# Then we will remove all the books already read by user 454 and sort the result to store in final recommendation \n",
    "\n",
    "top_rec = {}\n",
    "# Find the Item close to the Item already read \n",
    "# Get the read item and find the distance from the Item_disatnce for the book already read \n",
    "for k, v in row_indexes.items():\n",
    "    item_idx = [j for i in item_indices[v] for j in i]\n",
    "    item_dist = [j for i in item_distance[v] for j in i]\n",
    "    # Put this info in one list\n",
    "    combine = list(zip(item_dist,item_idx))\n",
    "    # Keep out the already read Book\n",
    "    diction = {i:d for d,i in combine  if i not in v}\n",
    "    zipped = list(zip(diction.keys(),diction.values()))\n",
    "    #sorting our result so that we have most similar item on the top \n",
    "    sort = sorted(zipped,key=lambda x: x[1])  \n",
    "    # to get the actaul movie name , pass the actual user-item matrim \n",
    "    # test_M.columns[2116] 'Vernon God Little'\n",
    "    recommendations = [(test_M1.columns[i],d) for i,d in sort]\n",
    "    idp = [(i,d) for i,d in sort ] \n",
    "#     print(item_idx)\n",
    "    top_rec[k]= recommendations\n",
    "#     print('Combine:',item_idx)\n",
    "#     print('Only Note Read:',recommendations)\n",
    "#     print('Item dis:',idp)\n",
    "          \n"
   ]
  },
  {
   "cell_type": "code",
   "execution_count": 33,
   "metadata": {},
   "outputs": [
    {
     "data": {
      "text/plain": [
       "255"
      ]
     },
     "execution_count": 33,
     "metadata": {},
     "output_type": "execute_result"
    }
   ],
   "source": [
    "top_rec.items()\n",
    "len(test_M1.index)"
   ]
  },
  {
   "cell_type": "code",
   "execution_count": 34,
   "metadata": {},
   "outputs": [
    {
     "data": {
      "text/plain": [
       "True"
      ]
     },
     "execution_count": 34,
     "metadata": {},
     "output_type": "execute_result"
    }
   ],
   "source": [
    "#some Test \n",
    "# check if User exist in Record\n",
    "2 in test_M1.index "
   ]
  },
  {
   "cell_type": "code",
   "execution_count": 35,
   "metadata": {},
   "outputs": [
    {
     "name": "stdout",
     "output_type": "stream",
     "text": [
      "Boork Read so far: \n",
      "Harry Potter Collection (Harry Potter, #1-6)\n",
      "Heart of Darkness\n",
      "How to Win Friends and Influence People\n",
      "I am Charlotte Simmons\n",
      "Memoirs of a Geisha\n",
      "The Da Vinci Code (Robert Langdon, #2)\n",
      "The Drama of the Gifted Child: The Search for the True Self\n",
      "The House of God\n",
      "The Millionaire Next Door: The Surprising Secrets of Americas Wealthy\n",
      "Who Moved My Cheese?\n"
     ]
    }
   ],
   "source": [
    "has_read[2] # list all the Book read by user 2\n",
    "print(\"Boork Read so far: \\n{}\".format('\\n'.join(has_read[2])))"
   ]
  },
  {
   "cell_type": "code",
   "execution_count": 36,
   "metadata": {},
   "outputs": [],
   "source": [
    "# build Final Recommendation \n",
    "def get_book_recommendation(user,number_of_rec=5):\n",
    "    if user in test_M1.index :\n",
    "        print(\"Boork Read so far: \\n\\n{}\".format('\\n'.join(has_read[user])))\n",
    "        print()\n",
    "        print(\"\\n\\nTOP 5 RECOMMENDATION:\")\n",
    "        # Get the Move name along with similarity score \n",
    "        for k,v in top_rec.items():\n",
    "            if user == k:\n",
    "                for i in v[:number_of_rec]:\n",
    "                    print('{} with similarlity: {:.4f}'.format(i[0],1-i[1]))\n",
    "    else:\n",
    "        print(\" Sorry user is not found\")"
   ]
  },
  {
   "cell_type": "code",
   "execution_count": 37,
   "metadata": {},
   "outputs": [
    {
     "name": "stdout",
     "output_type": "stream",
     "text": [
      "Boork Read so far: \n",
      "\n",
      "Harry Potter Collection (Harry Potter, #1-6)\n",
      "Heart of Darkness\n",
      "How to Win Friends and Influence People\n",
      "I am Charlotte Simmons\n",
      "Memoirs of a Geisha\n",
      "The Da Vinci Code (Robert Langdon, #2)\n",
      "The Drama of the Gifted Child: The Search for the True Self\n",
      "The House of God\n",
      "The Millionaire Next Door: The Surprising Secrets of Americas Wealthy\n",
      "Who Moved My Cheese?\n",
      "\n",
      "\n",
      "\n",
      "TOP 5 RECOMMENDATION:\n",
      "Plainsong (Plainsong, #1) with similarlity: 0.6402\n",
      "Random Family: Love, Drugs, Trouble, and Coming of Age in the Bronx with similarlity: 0.6402\n",
      "Tender at the Bone: Growing Up at the Table with similarlity: 0.6402\n",
      "One Good Turn (Jackson Brodie, #2) with similarlity: 0.6402\n",
      "A Supposedly Fun Thing I'll Never Do Again:  Essays and Arguments with similarlity: 0.6247\n"
     ]
    }
   ],
   "source": [
    "# Propose recommendation for User 2\n",
    "get_book_recommendation(2)"
   ]
  },
  {
   "cell_type": "markdown",
   "metadata": {},
   "source": [
    "#### Predict Rating of books using Item to Item (IICF)"
   ]
  },
  {
   "cell_type": "code",
   "execution_count": 38,
   "metadata": {},
   "outputs": [
    {
     "data": {
      "text/plain": [
       "array([[ 23.        ,  43.        , 364.        , ...,  13.        ,\n",
       "        244.        ,  42.        ],\n",
       "       [ 12.84371217,  30.60439691, 222.17943689, ...,   7.15978527,\n",
       "        149.09282941,  22.07803942],\n",
       "       [ 12.77437879,  28.78289484, 207.62542351, ...,   6.49645683,\n",
       "        141.98679436,  20.30402605],\n",
       "       [ 12.74387464,  25.70639651, 195.08457672, ...,   6.43217442,\n",
       "        135.55939244,  19.68470576],\n",
       "       [ 12.15220253,  24.04089531, 187.81210418, ...,   6.40233125,\n",
       "        129.96588445,  18.14283567]])"
      ]
     },
     "execution_count": 38,
     "metadata": {},
     "output_type": "execute_result"
    }
   ],
   "source": [
    "# Predict Rating of books\n",
    "item_distance_p = 1 - item_distance  # actaul similarlity \n",
    "test_predction = item_distance_p.T.dot(test_M1.T.values)/np.array([np.abs(item_distance_p.T).sum(axis = 1)]).T\n",
    "real_rating = test_M1.T.values[item_distance_p.argsort()[0]]\n",
    "test_predction\n",
    "item_distance_p.T.dot(test_M1.T.values)"
   ]
  },
  {
   "cell_type": "code",
   "execution_count": 39,
   "metadata": {},
   "outputs": [
    {
     "data": {
      "text/plain": [
       "array([[0.01039313, 0.01943064, 0.1644826 , ..., 0.00587438, 0.11025757,\n",
       "        0.01897876],\n",
       "       [0.0069546 , 0.01657164, 0.12030552, ..., 0.00387687, 0.08073065,\n",
       "        0.0119548 ],\n",
       "       [0.00720121, 0.01622559, 0.11704326, ..., 0.0036622 , 0.08004125,\n",
       "        0.01144585],\n",
       "       [0.00744793, 0.01502364, 0.11401366, ..., 0.00375917, 0.07922524,\n",
       "        0.01150437],\n",
       "       [0.00733897, 0.0145188 , 0.11342365, ..., 0.0038665 , 0.07848911,\n",
       "        0.01095684]])"
      ]
     },
     "execution_count": 39,
     "metadata": {},
     "output_type": "execute_result"
    }
   ],
   "source": [
    "test_predction"
   ]
  },
  {
   "cell_type": "markdown",
   "metadata": {},
   "source": [
    "#### RMSE Calculation"
   ]
  },
  {
   "cell_type": "code",
   "execution_count": 40,
   "metadata": {},
   "outputs": [],
   "source": [
    "def rmse(prediction,real):\n",
    "    prediction = prediction[real.nonzero()].flatten()\n",
    "    real= real[real.nonzero()].flatten()\n",
    "    return sqrt(mean_squared_error(prediction,real))\n",
    "    "
   ]
  },
  {
   "cell_type": "code",
   "execution_count": 41,
   "metadata": {},
   "outputs": [
    {
     "name": "stdout",
     "output_type": "stream",
     "text": [
      "Accuracy:96.353\n",
      "RMSE: 3.647\n"
     ]
    },
    {
     "data": {
      "text/plain": [
       "3.6470512670697888"
      ]
     },
     "execution_count": 41,
     "metadata": {},
     "output_type": "execute_result"
    }
   ],
   "source": [
    "error_rate = rmse(test_predction,real_rating)\n",
    "print(\"Accuracy:{:.3f}\".format(100-error_rate))\n",
    "print(\"RMSE: {:.3f}\".format(error_rate))\n",
    "error_rate"
   ]
  },
  {
   "cell_type": "markdown",
   "metadata": {},
   "source": [
    "#### Item-Item Analysis\n",
    "\n",
    "With Item to Item analysis, where we used 5 Nearest Neighbors to find the most suitable book.  We used cosine similarity to find the nearest neighbor only with the rating in context, and this resulted in RMSE of 3.65. \n",
    "\n",
    "It would be interesting to see RMSE, if we could also include the ratings by tag and other factors like user location and then building the IICF. My hypothesis says that we might get close to 2 in RMSE with this approach.\n",
    "\n",
    "## Conclusion\n",
    "\n",
    "When using content-based filtering for our recommender system, we found that the book recommendations were effective. This method also works faster than item-item and user-user as it requires less data points. The one downside to this approach was over-specification.\n",
    "\n",
    "The user-user and item-item approach took longer to process so we had to scale down our set to 10,000 records for both models. For the user-user CF, using the nearest neighbor approach and SVD matrix factorization approach both had poor RMSE's so these algorithms do not have valuable predictions when it comes to recommending books to similar users.  \n",
    "\n",
    "The item-item approach fared much better using the kNN approach with an accuracy of 96.353%. Potentially our books data would do work better with a hybrid of content and item-item collaborative filtering for future recommendations."
   ]
  },
  {
   "cell_type": "markdown",
   "metadata": {},
   "source": [
    "## Sources\n",
    "\n",
    "**[Goodbooks-10k:](http://fastml.com/goodbooks-10k-a-new-dataset-for-book-recommendations/)** A New Dataset for Book Recommendations\n",
    "   \n",
    "   + <b> Author     </b>: Zajac, Zygmunt\n",
    "   + <b> Title     </b>: Goodbooks-10k: a new dataset for book recommendations\n",
    "   + <b> Year      </b>: {2017}\n",
    "   + <b> Publisher </b>: [FastML](http://fastml.com/goodbooks-10k)\n",
    "   + <b> Journal   </b>: [FastML](http://fastml.com/goodbooks-10k)\n",
    "   + <b> Howpublished </b>: [goodbooks-10k](http://fastml.com/goodbooks-10k)\n"
   ]
  }
 ],
 "metadata": {
  "kernelspec": {
   "display_name": "Python 3",
   "language": "python",
   "name": "python3"
  },
  "language_info": {
   "codemirror_mode": {
    "name": "ipython",
    "version": 3
   },
   "file_extension": ".py",
   "mimetype": "text/x-python",
   "name": "python",
   "nbconvert_exporter": "python",
   "pygments_lexer": "ipython3",
   "version": "3.7.3"
  }
 },
 "nbformat": 4,
 "nbformat_minor": 2
}
