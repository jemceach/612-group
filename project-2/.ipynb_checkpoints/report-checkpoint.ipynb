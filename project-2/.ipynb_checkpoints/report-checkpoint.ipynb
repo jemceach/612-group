{
 "cells": [
  {
   "cell_type": "markdown",
   "metadata": {},
   "source": [
    "# Data 612 - Project 2 : Content-Based and Collaborative Filtering\n",
    "\n",
    "#### Team Info \n",
    "+ Christina Valore, \n",
    "+ Juliann McEachern, \n",
    "+ Rajwant Mishra\n",
    "\n",
    "#### Date: June 18, 2019\n",
    "\n",
    "## Overview\n",
    "\n",
    "For assignment 2, start with an existing dataset of user-item ratings, such as our toy books dataset, MovieLens, Jester [http://eigentaste.berkeley.edu/dataset/] or another dataset of your choosing.  Implement at least two of these recommendation algorithms: \n",
    "* Content-Based Filtering \n",
    "* User-User Collaborative Filtering \n",
    "* Item-Item Collaborative Filtering \n",
    " \n",
    "\n",
    "As an example of implementing a Content-Based recommender, you could build item profiles for a subset of MovieLens movies from scraping http://www.imdb.com/ or using the API at https://www.omdbapi.com/ (which has very recently instituted a small monthly fee).  A more challenging method would be to pull movie summaries or reviews and apply tf-idf and/or topic modeling. You should evaluate and compare different approaches, using different algorithms, normalization techniques, similarity methods, neighborhood sizes, etc.  You don’t need to be exhaustive—these are just some suggested possibilities.   You may use the course text’s [recommenderlab](https://cran.r-project.org/web/packages/recommenderlab/vignettes/recommenderlab.pdf) or any other library that you want.   Please provide at least one graph, and a textual summary of your findings and recommendations. "
   ]
  },
  {
   "cell_type": "code",
   "execution_count": null,
   "metadata": {},
   "outputs": [],
   "source": [
    "import pandas as pd\n",
    "import numpy as np\n",
    "import matplotlib.pyplot as plt\n",
    "\n",
    "#load data from local csv  into pandas dataframe\n",
    "\n",
    "Bk_Rating = pd.read_csv('BX-Book-Ratings.csv')\n",
    "Bk_User = pd.read_csv('BX-Uers.csv')\n",
    "Bk_Book = pd.read_csv('BX-Books.csv')\n"
   ]
  }
 ],
 "metadata": {
  "kernelspec": {
   "display_name": "Python 3",
   "language": "python",
   "name": "python3"
  },
  "language_info": {
   "codemirror_mode": {
    "name": "ipython",
    "version": 3
   },
   "file_extension": ".py",
   "mimetype": "text/x-python",
   "name": "python",
   "nbconvert_exporter": "python",
   "pygments_lexer": "ipython3",
   "version": "3.7.3"
  }
 },
 "nbformat": 4,
 "nbformat_minor": 2
}
