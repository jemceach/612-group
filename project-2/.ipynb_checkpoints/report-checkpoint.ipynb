{
 "cells": [
  {
   "cell_type": "markdown",
   "metadata": {},
   "source": [
    "#### Data 612 - Project 2 : Content-Based and Collaborative Filtering<br>Date: June 18, 2019<br>Team Info: \n",
    "+ Christina Valore\n",
    "+ Juliann McEachern \n",
    "+ Rajwant Mishra\n",
    "\n",
    "<h1 align=\"center\">Goodreads Books Recommender Systems</h1>\n",
    "\n",
    "## Dataset Selection\n",
    "\n",
    "Data was obtain from [goodbooks2017](#cite-goodbooks2017). Add more details here:\n",
    "+  `books`: dataset\n",
    "+  `book_tags`: dataset\n",
    "+  `tags`: dataset\n",
    "+  `ratings`: dataset"
   ]
  },
  {
   "cell_type": "code",
   "execution_count": 269,
   "metadata": {},
   "outputs": [],
   "source": [
    "import pandas as pd\n",
    "import numpy as np\n",
    "import matplotlib.pyplot as plt\n",
    "\n",
    "# Load data from local csv  into pandas dataframe\n",
    "books = pd.read_csv('https://raw.githubusercontent.com/jemceach/612-group/master/project-2/data/books.csv')\n",
    "book_tags = pd.read_csv('https://raw.githubusercontent.com/jemceach/612-group/master/project-2/data/book_tags.csv')\n",
    "tags = pd.read_csv('https://raw.githubusercontent.com/jemceach/612-group/master/project-2/data/tags.csv')\n",
    "ratings = pd.read_csv('https://raw.githubusercontent.com/jemceach/612-group/master/project-2/data/ratings.tar.gz', \n",
    "                      compression='gzip')\n",
    "\n",
    "# Clean ratings data\n",
    "ratings = ratings.drop('ratings.csv', axis=1)\n",
    "ratings = ratings[:-1].astype(int)"
   ]
  },
  {
   "cell_type": "code",
   "execution_count": 270,
   "metadata": {},
   "outputs": [
    {
     "data": {
      "text/html": [
       "<div>\n",
       "<style scoped>\n",
       "    .dataframe tbody tr th:only-of-type {\n",
       "        vertical-align: middle;\n",
       "    }\n",
       "\n",
       "    .dataframe tbody tr th {\n",
       "        vertical-align: top;\n",
       "    }\n",
       "\n",
       "    .dataframe thead th {\n",
       "        text-align: right;\n",
       "    }\n",
       "</style>\n",
       "<table border=\"1\" class=\"dataframe\">\n",
       "  <thead>\n",
       "    <tr style=\"text-align: right;\">\n",
       "      <th></th>\n",
       "      <th>goodreads_book_id</th>\n",
       "      <th>tag_id</th>\n",
       "      <th>count</th>\n",
       "    </tr>\n",
       "  </thead>\n",
       "  <tbody>\n",
       "    <tr>\n",
       "      <th>0</th>\n",
       "      <td>1</td>\n",
       "      <td>30574</td>\n",
       "      <td>167697</td>\n",
       "    </tr>\n",
       "    <tr>\n",
       "      <th>1</th>\n",
       "      <td>1</td>\n",
       "      <td>11305</td>\n",
       "      <td>37174</td>\n",
       "    </tr>\n",
       "    <tr>\n",
       "      <th>2</th>\n",
       "      <td>1</td>\n",
       "      <td>11557</td>\n",
       "      <td>34173</td>\n",
       "    </tr>\n",
       "    <tr>\n",
       "      <th>3</th>\n",
       "      <td>1</td>\n",
       "      <td>8717</td>\n",
       "      <td>12986</td>\n",
       "    </tr>\n",
       "    <tr>\n",
       "      <th>4</th>\n",
       "      <td>1</td>\n",
       "      <td>33114</td>\n",
       "      <td>12716</td>\n",
       "    </tr>\n",
       "  </tbody>\n",
       "</table>\n",
       "</div>"
      ],
      "text/plain": [
       "   goodreads_book_id  tag_id   count\n",
       "0                  1   30574  167697\n",
       "1                  1   11305   37174\n",
       "2                  1   11557   34173\n",
       "3                  1    8717   12986\n",
       "4                  1   33114   12716"
      ]
     },
     "execution_count": 270,
     "metadata": {},
     "output_type": "execute_result"
    }
   ],
   "source": [
    "book_tags.head()"
   ]
  },
  {
   "cell_type": "code",
   "execution_count": 271,
   "metadata": {},
   "outputs": [
    {
     "data": {
      "text/html": [
       "<div>\n",
       "<style scoped>\n",
       "    .dataframe tbody tr th:only-of-type {\n",
       "        vertical-align: middle;\n",
       "    }\n",
       "\n",
       "    .dataframe tbody tr th {\n",
       "        vertical-align: top;\n",
       "    }\n",
       "\n",
       "    .dataframe thead th {\n",
       "        text-align: right;\n",
       "    }\n",
       "</style>\n",
       "<table border=\"1\" class=\"dataframe\">\n",
       "  <thead>\n",
       "    <tr style=\"text-align: right;\">\n",
       "      <th></th>\n",
       "      <th>book_id</th>\n",
       "      <th>goodreads_book_id</th>\n",
       "      <th>best_book_id</th>\n",
       "      <th>work_id</th>\n",
       "      <th>books_count</th>\n",
       "      <th>isbn</th>\n",
       "      <th>isbn13</th>\n",
       "      <th>authors</th>\n",
       "      <th>original_publication_year</th>\n",
       "      <th>original_title</th>\n",
       "      <th>...</th>\n",
       "      <th>ratings_count</th>\n",
       "      <th>work_ratings_count</th>\n",
       "      <th>work_text_reviews_count</th>\n",
       "      <th>ratings_1</th>\n",
       "      <th>ratings_2</th>\n",
       "      <th>ratings_3</th>\n",
       "      <th>ratings_4</th>\n",
       "      <th>ratings_5</th>\n",
       "      <th>image_url</th>\n",
       "      <th>small_image_url</th>\n",
       "    </tr>\n",
       "  </thead>\n",
       "  <tbody>\n",
       "    <tr>\n",
       "      <th>0</th>\n",
       "      <td>1</td>\n",
       "      <td>2767052</td>\n",
       "      <td>2767052</td>\n",
       "      <td>2792775</td>\n",
       "      <td>272</td>\n",
       "      <td>439023483</td>\n",
       "      <td>9.780439e+12</td>\n",
       "      <td>Suzanne Collins</td>\n",
       "      <td>2008.0</td>\n",
       "      <td>The Hunger Games</td>\n",
       "      <td>...</td>\n",
       "      <td>4780653</td>\n",
       "      <td>4942365</td>\n",
       "      <td>155254</td>\n",
       "      <td>66715</td>\n",
       "      <td>127936</td>\n",
       "      <td>560092</td>\n",
       "      <td>1481305</td>\n",
       "      <td>2706317</td>\n",
       "      <td>https://images.gr-assets.com/books/1447303603m...</td>\n",
       "      <td>https://images.gr-assets.com/books/1447303603s...</td>\n",
       "    </tr>\n",
       "    <tr>\n",
       "      <th>1</th>\n",
       "      <td>2</td>\n",
       "      <td>3</td>\n",
       "      <td>3</td>\n",
       "      <td>4640799</td>\n",
       "      <td>491</td>\n",
       "      <td>439554934</td>\n",
       "      <td>9.780440e+12</td>\n",
       "      <td>J.K. Rowling, Mary GrandPré</td>\n",
       "      <td>1997.0</td>\n",
       "      <td>Harry Potter and the Philosopher's Stone</td>\n",
       "      <td>...</td>\n",
       "      <td>4602479</td>\n",
       "      <td>4800065</td>\n",
       "      <td>75867</td>\n",
       "      <td>75504</td>\n",
       "      <td>101676</td>\n",
       "      <td>455024</td>\n",
       "      <td>1156318</td>\n",
       "      <td>3011543</td>\n",
       "      <td>https://images.gr-assets.com/books/1474154022m...</td>\n",
       "      <td>https://images.gr-assets.com/books/1474154022s...</td>\n",
       "    </tr>\n",
       "    <tr>\n",
       "      <th>2</th>\n",
       "      <td>3</td>\n",
       "      <td>41865</td>\n",
       "      <td>41865</td>\n",
       "      <td>3212258</td>\n",
       "      <td>226</td>\n",
       "      <td>316015849</td>\n",
       "      <td>9.780316e+12</td>\n",
       "      <td>Stephenie Meyer</td>\n",
       "      <td>2005.0</td>\n",
       "      <td>Twilight</td>\n",
       "      <td>...</td>\n",
       "      <td>3866839</td>\n",
       "      <td>3916824</td>\n",
       "      <td>95009</td>\n",
       "      <td>456191</td>\n",
       "      <td>436802</td>\n",
       "      <td>793319</td>\n",
       "      <td>875073</td>\n",
       "      <td>1355439</td>\n",
       "      <td>https://images.gr-assets.com/books/1361039443m...</td>\n",
       "      <td>https://images.gr-assets.com/books/1361039443s...</td>\n",
       "    </tr>\n",
       "    <tr>\n",
       "      <th>3</th>\n",
       "      <td>4</td>\n",
       "      <td>2657</td>\n",
       "      <td>2657</td>\n",
       "      <td>3275794</td>\n",
       "      <td>487</td>\n",
       "      <td>61120081</td>\n",
       "      <td>9.780061e+12</td>\n",
       "      <td>Harper Lee</td>\n",
       "      <td>1960.0</td>\n",
       "      <td>To Kill a Mockingbird</td>\n",
       "      <td>...</td>\n",
       "      <td>3198671</td>\n",
       "      <td>3340896</td>\n",
       "      <td>72586</td>\n",
       "      <td>60427</td>\n",
       "      <td>117415</td>\n",
       "      <td>446835</td>\n",
       "      <td>1001952</td>\n",
       "      <td>1714267</td>\n",
       "      <td>https://images.gr-assets.com/books/1361975680m...</td>\n",
       "      <td>https://images.gr-assets.com/books/1361975680s...</td>\n",
       "    </tr>\n",
       "    <tr>\n",
       "      <th>4</th>\n",
       "      <td>5</td>\n",
       "      <td>4671</td>\n",
       "      <td>4671</td>\n",
       "      <td>245494</td>\n",
       "      <td>1356</td>\n",
       "      <td>743273567</td>\n",
       "      <td>9.780743e+12</td>\n",
       "      <td>F. Scott Fitzgerald</td>\n",
       "      <td>1925.0</td>\n",
       "      <td>The Great Gatsby</td>\n",
       "      <td>...</td>\n",
       "      <td>2683664</td>\n",
       "      <td>2773745</td>\n",
       "      <td>51992</td>\n",
       "      <td>86236</td>\n",
       "      <td>197621</td>\n",
       "      <td>606158</td>\n",
       "      <td>936012</td>\n",
       "      <td>947718</td>\n",
       "      <td>https://images.gr-assets.com/books/1490528560m...</td>\n",
       "      <td>https://images.gr-assets.com/books/1490528560s...</td>\n",
       "    </tr>\n",
       "  </tbody>\n",
       "</table>\n",
       "<p>5 rows × 23 columns</p>\n",
       "</div>"
      ],
      "text/plain": [
       "   book_id  goodreads_book_id  best_book_id  work_id  books_count       isbn  \\\n",
       "0        1            2767052       2767052  2792775          272  439023483   \n",
       "1        2                  3             3  4640799          491  439554934   \n",
       "2        3              41865         41865  3212258          226  316015849   \n",
       "3        4               2657          2657  3275794          487   61120081   \n",
       "4        5               4671          4671   245494         1356  743273567   \n",
       "\n",
       "         isbn13                      authors  original_publication_year  \\\n",
       "0  9.780439e+12              Suzanne Collins                     2008.0   \n",
       "1  9.780440e+12  J.K. Rowling, Mary GrandPré                     1997.0   \n",
       "2  9.780316e+12              Stephenie Meyer                     2005.0   \n",
       "3  9.780061e+12                   Harper Lee                     1960.0   \n",
       "4  9.780743e+12          F. Scott Fitzgerald                     1925.0   \n",
       "\n",
       "                             original_title  ... ratings_count  \\\n",
       "0                          The Hunger Games  ...       4780653   \n",
       "1  Harry Potter and the Philosopher's Stone  ...       4602479   \n",
       "2                                  Twilight  ...       3866839   \n",
       "3                     To Kill a Mockingbird  ...       3198671   \n",
       "4                          The Great Gatsby  ...       2683664   \n",
       "\n",
       "  work_ratings_count  work_text_reviews_count  ratings_1  ratings_2  \\\n",
       "0            4942365                   155254      66715     127936   \n",
       "1            4800065                    75867      75504     101676   \n",
       "2            3916824                    95009     456191     436802   \n",
       "3            3340896                    72586      60427     117415   \n",
       "4            2773745                    51992      86236     197621   \n",
       "\n",
       "   ratings_3  ratings_4  ratings_5  \\\n",
       "0     560092    1481305    2706317   \n",
       "1     455024    1156318    3011543   \n",
       "2     793319     875073    1355439   \n",
       "3     446835    1001952    1714267   \n",
       "4     606158     936012     947718   \n",
       "\n",
       "                                           image_url  \\\n",
       "0  https://images.gr-assets.com/books/1447303603m...   \n",
       "1  https://images.gr-assets.com/books/1474154022m...   \n",
       "2  https://images.gr-assets.com/books/1361039443m...   \n",
       "3  https://images.gr-assets.com/books/1361975680m...   \n",
       "4  https://images.gr-assets.com/books/1490528560m...   \n",
       "\n",
       "                                     small_image_url  \n",
       "0  https://images.gr-assets.com/books/1447303603s...  \n",
       "1  https://images.gr-assets.com/books/1474154022s...  \n",
       "2  https://images.gr-assets.com/books/1361039443s...  \n",
       "3  https://images.gr-assets.com/books/1361975680s...  \n",
       "4  https://images.gr-assets.com/books/1490528560s...  \n",
       "\n",
       "[5 rows x 23 columns]"
      ]
     },
     "execution_count": 271,
     "metadata": {},
     "output_type": "execute_result"
    }
   ],
   "source": [
    "books.head()"
   ]
  },
  {
   "cell_type": "code",
   "execution_count": 272,
   "metadata": {},
   "outputs": [
    {
     "data": {
      "text/html": [
       "<div>\n",
       "<style scoped>\n",
       "    .dataframe tbody tr th:only-of-type {\n",
       "        vertical-align: middle;\n",
       "    }\n",
       "\n",
       "    .dataframe tbody tr th {\n",
       "        vertical-align: top;\n",
       "    }\n",
       "\n",
       "    .dataframe thead th {\n",
       "        text-align: right;\n",
       "    }\n",
       "</style>\n",
       "<table border=\"1\" class=\"dataframe\">\n",
       "  <thead>\n",
       "    <tr style=\"text-align: right;\">\n",
       "      <th></th>\n",
       "      <th>tag_id</th>\n",
       "      <th>tag_name</th>\n",
       "    </tr>\n",
       "  </thead>\n",
       "  <tbody>\n",
       "    <tr>\n",
       "      <th>0</th>\n",
       "      <td>0</td>\n",
       "      <td>-</td>\n",
       "    </tr>\n",
       "    <tr>\n",
       "      <th>1</th>\n",
       "      <td>1</td>\n",
       "      <td>--1-</td>\n",
       "    </tr>\n",
       "    <tr>\n",
       "      <th>2</th>\n",
       "      <td>2</td>\n",
       "      <td>--10-</td>\n",
       "    </tr>\n",
       "    <tr>\n",
       "      <th>3</th>\n",
       "      <td>3</td>\n",
       "      <td>--12-</td>\n",
       "    </tr>\n",
       "    <tr>\n",
       "      <th>4</th>\n",
       "      <td>4</td>\n",
       "      <td>--122-</td>\n",
       "    </tr>\n",
       "  </tbody>\n",
       "</table>\n",
       "</div>"
      ],
      "text/plain": [
       "   tag_id tag_name\n",
       "0       0        -\n",
       "1       1     --1-\n",
       "2       2    --10-\n",
       "3       3    --12-\n",
       "4       4   --122-"
      ]
     },
     "execution_count": 272,
     "metadata": {},
     "output_type": "execute_result"
    }
   ],
   "source": [
    "tags.head()"
   ]
  },
  {
   "cell_type": "code",
   "execution_count": 273,
   "metadata": {},
   "outputs": [
    {
     "data": {
      "text/html": [
       "<div>\n",
       "<style scoped>\n",
       "    .dataframe tbody tr th:only-of-type {\n",
       "        vertical-align: middle;\n",
       "    }\n",
       "\n",
       "    .dataframe tbody tr th {\n",
       "        vertical-align: top;\n",
       "    }\n",
       "\n",
       "    .dataframe thead th {\n",
       "        text-align: right;\n",
       "    }\n",
       "</style>\n",
       "<table border=\"1\" class=\"dataframe\">\n",
       "  <thead>\n",
       "    <tr style=\"text-align: right;\">\n",
       "      <th></th>\n",
       "      <th>user_id</th>\n",
       "      <th>book_id</th>\n",
       "      <th>rating</th>\n",
       "    </tr>\n",
       "  </thead>\n",
       "  <tbody>\n",
       "    <tr>\n",
       "      <th>0</th>\n",
       "      <td>1</td>\n",
       "      <td>258</td>\n",
       "      <td>5</td>\n",
       "    </tr>\n",
       "    <tr>\n",
       "      <th>1</th>\n",
       "      <td>2</td>\n",
       "      <td>4081</td>\n",
       "      <td>4</td>\n",
       "    </tr>\n",
       "    <tr>\n",
       "      <th>2</th>\n",
       "      <td>2</td>\n",
       "      <td>260</td>\n",
       "      <td>5</td>\n",
       "    </tr>\n",
       "    <tr>\n",
       "      <th>3</th>\n",
       "      <td>2</td>\n",
       "      <td>9296</td>\n",
       "      <td>5</td>\n",
       "    </tr>\n",
       "    <tr>\n",
       "      <th>4</th>\n",
       "      <td>2</td>\n",
       "      <td>2318</td>\n",
       "      <td>3</td>\n",
       "    </tr>\n",
       "  </tbody>\n",
       "</table>\n",
       "</div>"
      ],
      "text/plain": [
       "   user_id  book_id  rating\n",
       "0        1      258       5\n",
       "1        2     4081       4\n",
       "2        2      260       5\n",
       "3        2     9296       5\n",
       "4        2     2318       3"
      ]
     },
     "execution_count": 273,
     "metadata": {},
     "output_type": "execute_result"
    }
   ],
   "source": [
    "ratings.head()"
   ]
  },
  {
   "cell_type": "markdown",
   "metadata": {},
   "source": [
    "## Content-Based Filtering \n",
    "\n",
    "Through content-based filtering, we individually filtered user recommendations based on unique, item profiles using our `book`, `book_tag`, and `tags` datasets.\n",
    "\n",
    "#### Item Profile \n",
    "\n",
    "Using a few data transformations, we create individual item profiles, which features include concatenated tags describing each book. "
   ]
  },
  {
   "cell_type": "code",
   "execution_count": 274,
   "metadata": {},
   "outputs": [],
   "source": [
    "# CBF Data Cleaning\n",
    "## select only books writen in english and subset goodreads book id, title, and authors\n",
    "filter_list = ['eng', 'en-US', 'en-GB', 'en-CA', 'en']\n",
    "eng_books = books[books.language_code.isin(filter_list)]\n",
    "subset_books = eng_books[['goodreads_book_id', 'title', 'authors']]\n",
    "\n",
    "# join tags and books with tags\n",
    "join_tags = book_tags.set_index('tag_id').join(tags.set_index('tag_id')).drop('count', axis=1)\n",
    "join_book = pd.merge(subset_books, join_tags, on='goodreads_book_id')\n",
    "CBF_tags = join_book.groupby(['goodreads_book_id','title','authors'],\n",
    "                             as_index=False).agg(lambda x:', '.join(x)).rename({'tag_name':'tags'}, axis=1)"
   ]
  },
  {
   "cell_type": "markdown",
   "metadata": {},
   "source": [
    "We passed the tags column (or profile) as a vector through a term frequency times inverse document frequency (TF-IDF) matrix. This process mines and scores important words from the profile. \n",
    "\n",
    "We then created a cosine similiarity matrices for book tags to make our recomendation predictions. Finally, we build a `CBF_recommend function`, which uses the cosine similarities  to identify the top *n* matches for a particular book based solely on it's profile.  "
   ]
  },
  {
   "cell_type": "code",
   "execution_count": 275,
   "metadata": {},
   "outputs": [],
   "source": [
    "from sklearn.metrics.pairwise import cosine_similarity\n",
    "from sklearn.feature_extraction.text import TfidfVectorizer\n",
    "from sklearn.metrics.pairwise import linear_kernel\n",
    "\n",
    "# Generate TF-IDF matrix for tags\n",
    "vectorizer = TfidfVectorizer(analyzer='word', ngram_range=(1, 3), min_df=0, stop_words='english')\n",
    "\n",
    "# Generate cosine similarity matrix for tags \n",
    "tf_idf_matrix = vectorizer.fit_transform(CBF_tags['tags'])\n",
    "co_sim = linear_kernel(tf_idf_matrix, tf_idf_matrix)\n",
    "\n",
    "# Create list to match title indices in function\n",
    "indices = pd.Series(data=CBF_tags.index, index=CBF_tags['title']) \n",
    "\n",
    "# Book recommendation function \n",
    "def CBF_recommend(title, n):\n",
    "    if n > 0: # logical statement to ensure valid input for n\n",
    "        recommendations = CBF_tags[['title', 'authors']] # set recommendation output: title, author\n",
    "        idx = indices[title] # set index to title\n",
    "        \n",
    "        # list and sort similarity scores \n",
    "        score = pd.DataFrame(enumerate(co_sim[idx]), columns=['ID', 'score']).drop('ID', axis=1).sort_values('score', ascending = False).iloc[1:,]\n",
    "  \n",
    "        # recommend top n books \n",
    "        top_n = score[1:n+1]\n",
    "        test = recommendations.iloc[top_n.index].join(top_n)\n",
    "        test.index = np.arange(1, len(test) + 1)\n",
    "        return test\n",
    "    else: \n",
    "        print(\"Select a value greater than 0 and try again.\")"
   ]
  },
  {
   "cell_type": "markdown",
   "metadata": {},
   "source": [
    "#### Content-Based Filtering Examples"
   ]
  },
  {
   "cell_type": "markdown",
   "metadata": {},
   "source": [
    "The following examples are used to test our `CBF_recommend function` and view correlation score of recommended books. "
   ]
  },
  {
   "cell_type": "code",
   "execution_count": 276,
   "metadata": {},
   "outputs": [
    {
     "data": {
      "text/html": [
       "<div>\n",
       "<style scoped>\n",
       "    .dataframe tbody tr th:only-of-type {\n",
       "        vertical-align: middle;\n",
       "    }\n",
       "\n",
       "    .dataframe tbody tr th {\n",
       "        vertical-align: top;\n",
       "    }\n",
       "\n",
       "    .dataframe thead th {\n",
       "        text-align: right;\n",
       "    }\n",
       "</style>\n",
       "<table border=\"1\" class=\"dataframe\">\n",
       "  <thead>\n",
       "    <tr style=\"text-align: right;\">\n",
       "      <th></th>\n",
       "      <th>title</th>\n",
       "      <th>authors</th>\n",
       "      <th>score</th>\n",
       "    </tr>\n",
       "  </thead>\n",
       "  <tbody>\n",
       "    <tr>\n",
       "      <th>1</th>\n",
       "      <td>Of Mice and Men</td>\n",
       "      <td>John Steinbeck</td>\n",
       "      <td>0.520684</td>\n",
       "    </tr>\n",
       "    <tr>\n",
       "      <th>2</th>\n",
       "      <td>The Great Gatsby</td>\n",
       "      <td>F. Scott Fitzgerald</td>\n",
       "      <td>0.512877</td>\n",
       "    </tr>\n",
       "    <tr>\n",
       "      <th>3</th>\n",
       "      <td>Lord of the Flies</td>\n",
       "      <td>William Golding</td>\n",
       "      <td>0.495521</td>\n",
       "    </tr>\n",
       "  </tbody>\n",
       "</table>\n",
       "</div>"
      ],
      "text/plain": [
       "               title              authors     score\n",
       "1    Of Mice and Men       John Steinbeck  0.520684\n",
       "2   The Great Gatsby  F. Scott Fitzgerald  0.512877\n",
       "3  Lord of the Flies      William Golding  0.495521"
      ]
     },
     "execution_count": 276,
     "metadata": {},
     "output_type": "execute_result"
    }
   ],
   "source": [
    "CBF_recommend('To Kill a Mockingbird', 3)"
   ]
  },
  {
   "cell_type": "code",
   "execution_count": 277,
   "metadata": {},
   "outputs": [
    {
     "data": {
      "text/html": [
       "<div>\n",
       "<style scoped>\n",
       "    .dataframe tbody tr th:only-of-type {\n",
       "        vertical-align: middle;\n",
       "    }\n",
       "\n",
       "    .dataframe tbody tr th {\n",
       "        vertical-align: top;\n",
       "    }\n",
       "\n",
       "    .dataframe thead th {\n",
       "        text-align: right;\n",
       "    }\n",
       "</style>\n",
       "<table border=\"1\" class=\"dataframe\">\n",
       "  <thead>\n",
       "    <tr style=\"text-align: right;\">\n",
       "      <th></th>\n",
       "      <th>title</th>\n",
       "      <th>authors</th>\n",
       "      <th>score</th>\n",
       "    </tr>\n",
       "  </thead>\n",
       "  <tbody>\n",
       "    <tr>\n",
       "      <th>1</th>\n",
       "      <td>The Tenth Circle</td>\n",
       "      <td>Jodi Picoult</td>\n",
       "      <td>0.352281</td>\n",
       "    </tr>\n",
       "    <tr>\n",
       "      <th>2</th>\n",
       "      <td>Salem Falls</td>\n",
       "      <td>Jodi Picoult</td>\n",
       "      <td>0.344941</td>\n",
       "    </tr>\n",
       "    <tr>\n",
       "      <th>3</th>\n",
       "      <td>Handle with Care</td>\n",
       "      <td>Jodi Picoult</td>\n",
       "      <td>0.323383</td>\n",
       "    </tr>\n",
       "  </tbody>\n",
       "</table>\n",
       "</div>"
      ],
      "text/plain": [
       "              title       authors     score\n",
       "1  The Tenth Circle  Jodi Picoult  0.352281\n",
       "2       Salem Falls  Jodi Picoult  0.344941\n",
       "3  Handle with Care  Jodi Picoult  0.323383"
      ]
     },
     "execution_count": 277,
     "metadata": {},
     "output_type": "execute_result"
    }
   ],
   "source": [
    "CBF_recommend('Nineteen Minutes', 3)"
   ]
  },
  {
   "cell_type": "code",
   "execution_count": 278,
   "metadata": {},
   "outputs": [
    {
     "data": {
      "text/html": [
       "<div>\n",
       "<style scoped>\n",
       "    .dataframe tbody tr th:only-of-type {\n",
       "        vertical-align: middle;\n",
       "    }\n",
       "\n",
       "    .dataframe tbody tr th {\n",
       "        vertical-align: top;\n",
       "    }\n",
       "\n",
       "    .dataframe thead th {\n",
       "        text-align: right;\n",
       "    }\n",
       "</style>\n",
       "<table border=\"1\" class=\"dataframe\">\n",
       "  <thead>\n",
       "    <tr style=\"text-align: right;\">\n",
       "      <th></th>\n",
       "      <th>title</th>\n",
       "      <th>authors</th>\n",
       "      <th>score</th>\n",
       "    </tr>\n",
       "  </thead>\n",
       "  <tbody>\n",
       "    <tr>\n",
       "      <th>1</th>\n",
       "      <td>A Feast for Crows (A Song of Ice and Fire, #4)</td>\n",
       "      <td>George R.R. Martin</td>\n",
       "      <td>0.685467</td>\n",
       "    </tr>\n",
       "    <tr>\n",
       "      <th>2</th>\n",
       "      <td>A Dance with Dragons (A Song of Ice and Fire, #5)</td>\n",
       "      <td>George R.R. Martin</td>\n",
       "      <td>0.676265</td>\n",
       "    </tr>\n",
       "    <tr>\n",
       "      <th>3</th>\n",
       "      <td>A Storm of Swords (A Song of Ice and Fire, #3)</td>\n",
       "      <td>George R.R. Martin</td>\n",
       "      <td>0.660945</td>\n",
       "    </tr>\n",
       "  </tbody>\n",
       "</table>\n",
       "</div>"
      ],
      "text/plain": [
       "                                               title             authors  \\\n",
       "1     A Feast for Crows (A Song of Ice and Fire, #4)  George R.R. Martin   \n",
       "2  A Dance with Dragons (A Song of Ice and Fire, #5)  George R.R. Martin   \n",
       "3     A Storm of Swords (A Song of Ice and Fire, #3)  George R.R. Martin   \n",
       "\n",
       "      score  \n",
       "1  0.685467  \n",
       "2  0.676265  \n",
       "3  0.660945  "
      ]
     },
     "execution_count": 278,
     "metadata": {},
     "output_type": "execute_result"
    }
   ],
   "source": [
    "CBF_recommend('A Game of Thrones (A Song of Ice and Fire, #1)', 3)"
   ]
  },
  {
   "cell_type": "markdown",
   "metadata": {},
   "source": [
    "#### Content-Based Recommendations from User Input \n",
    "\n",
    "The `booksearch function` below allows users to search for book titles within our goodbooks compilation. Users can take the output to guide their search for specific item recommendations. "
   ]
  },
  {
   "cell_type": "code",
   "execution_count": 280,
   "metadata": {},
   "outputs": [
    {
     "ename": "SyntaxError",
     "evalue": "invalid syntax (<ipython-input-280-23fd94558724>, line 1)",
     "output_type": "error",
     "traceback": [
      "\u001b[1;36m  File \u001b[1;32m\"<ipython-input-280-23fd94558724>\"\u001b[1;36m, line \u001b[1;32m1\u001b[0m\n\u001b[1;33m    pip install fuzzywuzzy\u001b[0m\n\u001b[1;37m              ^\u001b[0m\n\u001b[1;31mSyntaxError\u001b[0m\u001b[1;31m:\u001b[0m invalid syntax\n"
     ]
    }
   ],
   "source": [
    "# pip install fuzzywuzzy\n",
    "# pip install python-Levenshtein\n",
    "from fuzzywuzzy import fuzz\n",
    "from fuzzywuzzy import process\n",
    "\n",
    "choices = CBF_tags['title']\n",
    "search_value = input(\"Search book titles: \")\n",
    "\n",
    "def booksearch(title):\n",
    "    fuzzy = process.extract(search_value, choices)\n",
    "    results = [x[0] for x in fuzzy]\n",
    "    print(\"\\n\".join(str(x) for x in results))\n",
    "\n",
    "booksearch(search_value)"
   ]
  },
  {
   "cell_type": "markdown",
   "metadata": {},
   "source": [
    "We also created a `title_recommendations function`, which finds the best title matches from the user's input and runs the selection through our content-based recommender. The user can also select the number of recommendations they wish to receive here. "
   ]
  },
  {
   "cell_type": "code",
   "execution_count": null,
   "metadata": {},
   "outputs": [],
   "source": [
    "title_input = input(\"Input book title to view recommendations: \")\n",
    "    \n",
    "def title_recommendations(title): \n",
    "    recommend_n = input(\"Input number of recommendations you would like to receive: \")\n",
    "    user_selection = process.extractOne(title_input, choices)[0]\n",
    "    print(\"\\n Recommending titles based on the book: \",user_selection)\n",
    "    return CBF_recommend(user_selection, int(recommend_n))\n",
    "\n",
    "title_recommendations(title_input)"
   ]
  },
  {
   "cell_type": "markdown",
   "metadata": {},
   "source": [
    "#### Content-Based Analysis\n",
    "\n",
    "Upon initial review, the `CBF_recommend` function appears to match book recommendations very effectively based the created item profiles. This method works nicely because it does not require data on other users and does not rate our items based on popularity. \n",
    "\n",
    "However, we found this method suffered from a common drawback of the content-based approach, over-specification. Unlike the \"To Kill a Mockingbird\" recommendations, we see that the top recommender results for \"Nineteen Minutes\" and \"A Game of Thrones\" are for other novels written by the same authors as the book we searched for.  "
   ]
  },
  {
   "cell_type": "markdown",
   "metadata": {},
   "source": [
    "## User-User Collaborative Filtering "
   ]
  },
  {
   "cell_type": "markdown",
   "metadata": {},
   "source": [
    "## Item-Item Collaborative Filtering "
   ]
  },
  {
   "cell_type": "markdown",
   "metadata": {},
   "source": [
    "1. Data Sparsity: In case of large number of items, number of items a user has rated reduces to a tiny percentage making the correlation coefficient less reliable\n",
    "2. User profiles change quickly and the entire system model had to be recomputed which is both time and computationally expensive\n",
    "To cater to these issues, we will use ITEM-ITEM collaborative filtering.\n",
    "\n",
    "<b>ITEM-ITEM collaborative filtering</b>\n",
    "ITEM-ITEM collaborative filtering look for items that are similar to the articles that user has already rated and recommend most similar articles. But what does that mean when we say item-item similarity? In this case we don’t mean whether two items are the same by attribute like Fountain pen and pilot pen are similar because both are pen. Instead, what similarity means is how people treat two items the same in terms of like and dislike.\n",
    "This method is quite stable in itself as compared to User based collaborative filtering because the average item has a lot more ratings than the average user. So an individual rating doesn’t impact as much."
   ]
  },
  {
   "cell_type": "markdown",
   "metadata": {},
   "source": [
    "To calculate similarity between two items, we looks into the set of items the target user has rated and computes how similar they are to the target item i and then selects k most similar items. Similarity between two items is calculated by taking the ratings of the users who have rated both the items and thereafter using the cosine similarity function mentioned below.<br>\n",
    "Once we have the similarity between the items, the prediction is then computed by taking a weighted average of the target user’s ratings on these similar items. The formula to calculate rating is very similar to the user based collaborative filtering except the weights are between items instead of between users. And we use the current users rating for the item or for other items, instead of other users rating for the current items."
   ]
  },
  {
   "cell_type": "markdown",
   "metadata": {},
   "source": []
  },
  {
   "cell_type": "code",
   "execution_count": 281,
   "metadata": {},
   "outputs": [],
   "source": [
    "#make necesarry imports\n",
    "import numpy as np\n",
    "import pandas as pd\n",
    "import matplotlib.pyplot as plt\n",
    "import sklearn.metrics as metrics\n",
    "import numpy as np\n",
    "from sklearn.neighbors import NearestNeighbors\n",
    "from scipy.spatial.distance import correlation, cosine\n",
    "import ipywidgets as widgets\n",
    "from IPython.display import display, clear_output\n",
    "from sklearn.metrics import pairwise_distances\n",
    "from sklearn.metrics import mean_squared_error\n",
    "from math import sqrt\n",
    "import sys, os\n",
    "from contextlib import contextmanager\n",
    "import ipywidgets as widgets\n",
    "from IPython.display import display, clear_output\n",
    "from sklearn.metrics import pairwise_distances\n",
    "global k,metric\n",
    "k=4\n",
    "metric='cosine'\n",
    "\n",
    "# Method to show N item from Dict\n",
    "def show_dict_item(n, dict_obj):\n",
    "    return {k: dict_obj[k] for k in list(dict_obj)[:n]}\n"
   ]
  },
  {
   "cell_type": "code",
   "execution_count": 282,
   "metadata": {},
   "outputs": [
    {
     "data": {
      "text/html": [
       "<div>\n",
       "<style scoped>\n",
       "    .dataframe tbody tr th:only-of-type {\n",
       "        vertical-align: middle;\n",
       "    }\n",
       "\n",
       "    .dataframe tbody tr th {\n",
       "        vertical-align: top;\n",
       "    }\n",
       "\n",
       "    .dataframe thead th {\n",
       "        text-align: right;\n",
       "    }\n",
       "</style>\n",
       "<table border=\"1\" class=\"dataframe\">\n",
       "  <thead>\n",
       "    <tr style=\"text-align: right;\">\n",
       "      <th></th>\n",
       "      <th>user_id</th>\n",
       "      <th>book_id</th>\n",
       "      <th>rating</th>\n",
       "    </tr>\n",
       "  </thead>\n",
       "  <tbody>\n",
       "    <tr>\n",
       "      <th>1</th>\n",
       "      <td>2</td>\n",
       "      <td>4081</td>\n",
       "      <td>4</td>\n",
       "    </tr>\n",
       "    <tr>\n",
       "      <th>2</th>\n",
       "      <td>2</td>\n",
       "      <td>260</td>\n",
       "      <td>5</td>\n",
       "    </tr>\n",
       "    <tr>\n",
       "      <th>3</th>\n",
       "      <td>2</td>\n",
       "      <td>9296</td>\n",
       "      <td>5</td>\n",
       "    </tr>\n",
       "    <tr>\n",
       "      <th>4</th>\n",
       "      <td>2</td>\n",
       "      <td>2318</td>\n",
       "      <td>3</td>\n",
       "    </tr>\n",
       "    <tr>\n",
       "      <th>5</th>\n",
       "      <td>2</td>\n",
       "      <td>26</td>\n",
       "      <td>4</td>\n",
       "    </tr>\n",
       "  </tbody>\n",
       "</table>\n",
       "</div>"
      ],
      "text/plain": [
       "   user_id  book_id  rating\n",
       "1        2     4081       4\n",
       "2        2      260       5\n",
       "3        2     9296       5\n",
       "4        2     2318       3\n",
       "5        2       26       4"
      ]
     },
     "execution_count": 282,
     "metadata": {},
     "output_type": "execute_result"
    }
   ],
   "source": [
    "\n",
    "## starting new Test with 10K data\n",
    "test_rating = ratings[1:10000]\n",
    "test_rating.head()"
   ]
  },
  {
   "cell_type": "code",
   "execution_count": 283,
   "metadata": {},
   "outputs": [
    {
     "data": {
      "text/plain": [
       "9999"
      ]
     },
     "execution_count": 283,
     "metadata": {},
     "output_type": "execute_result"
    }
   ],
   "source": [
    "len(test_rating)"
   ]
  },
  {
   "cell_type": "code",
   "execution_count": 284,
   "metadata": {},
   "outputs": [
    {
     "data": {
      "text/html": [
       "<div>\n",
       "<style scoped>\n",
       "    .dataframe tbody tr th:only-of-type {\n",
       "        vertical-align: middle;\n",
       "    }\n",
       "\n",
       "    .dataframe tbody tr th {\n",
       "        vertical-align: top;\n",
       "    }\n",
       "\n",
       "    .dataframe thead th {\n",
       "        text-align: right;\n",
       "    }\n",
       "</style>\n",
       "<table border=\"1\" class=\"dataframe\">\n",
       "  <thead>\n",
       "    <tr style=\"text-align: right;\">\n",
       "      <th></th>\n",
       "      <th>user_id</th>\n",
       "      <th>book_id</th>\n",
       "      <th>rating</th>\n",
       "      <th>goodreads_book_id</th>\n",
       "      <th>isbn</th>\n",
       "      <th>authors</th>\n",
       "      <th>title</th>\n",
       "      <th>original_publication_year</th>\n",
       "      <th>average_rating</th>\n",
       "    </tr>\n",
       "  </thead>\n",
       "  <tbody>\n",
       "    <tr>\n",
       "      <th>0</th>\n",
       "      <td>2</td>\n",
       "      <td>4081</td>\n",
       "      <td>4</td>\n",
       "      <td>231</td>\n",
       "      <td>312424442</td>\n",
       "      <td>Tom Wolfe</td>\n",
       "      <td>I am Charlotte Simmons</td>\n",
       "      <td>2004</td>\n",
       "      <td>3.40</td>\n",
       "    </tr>\n",
       "    <tr>\n",
       "      <th>1</th>\n",
       "      <td>258</td>\n",
       "      <td>4081</td>\n",
       "      <td>5</td>\n",
       "      <td>231</td>\n",
       "      <td>312424442</td>\n",
       "      <td>Tom Wolfe</td>\n",
       "      <td>I am Charlotte Simmons</td>\n",
       "      <td>2004</td>\n",
       "      <td>3.40</td>\n",
       "    </tr>\n",
       "    <tr>\n",
       "      <th>2</th>\n",
       "      <td>364</td>\n",
       "      <td>4081</td>\n",
       "      <td>4</td>\n",
       "      <td>231</td>\n",
       "      <td>312424442</td>\n",
       "      <td>Tom Wolfe</td>\n",
       "      <td>I am Charlotte Simmons</td>\n",
       "      <td>2004</td>\n",
       "      <td>3.40</td>\n",
       "    </tr>\n",
       "    <tr>\n",
       "      <th>3</th>\n",
       "      <td>316</td>\n",
       "      <td>4081</td>\n",
       "      <td>2</td>\n",
       "      <td>231</td>\n",
       "      <td>312424442</td>\n",
       "      <td>Tom Wolfe</td>\n",
       "      <td>I am Charlotte Simmons</td>\n",
       "      <td>2004</td>\n",
       "      <td>3.40</td>\n",
       "    </tr>\n",
       "    <tr>\n",
       "      <th>4</th>\n",
       "      <td>2</td>\n",
       "      <td>260</td>\n",
       "      <td>5</td>\n",
       "      <td>4865</td>\n",
       "      <td>NaN</td>\n",
       "      <td>Dale Carnegie</td>\n",
       "      <td>How to Win Friends and Influence People</td>\n",
       "      <td>1936</td>\n",
       "      <td>4.13</td>\n",
       "    </tr>\n",
       "  </tbody>\n",
       "</table>\n",
       "</div>"
      ],
      "text/plain": [
       "   user_id  book_id  rating  goodreads_book_id       isbn        authors  \\\n",
       "0        2     4081       4                231  312424442      Tom Wolfe   \n",
       "1      258     4081       5                231  312424442      Tom Wolfe   \n",
       "2      364     4081       4                231  312424442      Tom Wolfe   \n",
       "3      316     4081       2                231  312424442      Tom Wolfe   \n",
       "4        2      260       5               4865        NaN  Dale Carnegie   \n",
       "\n",
       "                                     title  original_publication_year  \\\n",
       "0                   I am Charlotte Simmons                       2004   \n",
       "1                   I am Charlotte Simmons                       2004   \n",
       "2                   I am Charlotte Simmons                       2004   \n",
       "3                   I am Charlotte Simmons                       2004   \n",
       "4  How to Win Friends and Influence People                       1936   \n",
       "\n",
       "   average_rating  \n",
       "0            3.40  \n",
       "1            3.40  \n",
       "2            3.40  \n",
       "3            3.40  \n",
       "4            4.13  "
      ]
     },
     "execution_count": 284,
     "metadata": {},
     "output_type": "execute_result"
    }
   ],
   "source": [
    "test_rating_item = pd.merge(test_rating,books_df)\n",
    "test_rating_item.head()"
   ]
  },
  {
   "cell_type": "code",
   "execution_count": 285,
   "metadata": {},
   "outputs": [
    {
     "data": {
      "text/html": [
       "<div>\n",
       "<style scoped>\n",
       "    .dataframe tbody tr th:only-of-type {\n",
       "        vertical-align: middle;\n",
       "    }\n",
       "\n",
       "    .dataframe tbody tr th {\n",
       "        vertical-align: top;\n",
       "    }\n",
       "\n",
       "    .dataframe thead th {\n",
       "        text-align: right;\n",
       "    }\n",
       "</style>\n",
       "<table border=\"1\" class=\"dataframe\">\n",
       "  <thead>\n",
       "    <tr style=\"text-align: right;\">\n",
       "      <th></th>\n",
       "      <th>book_id</th>\n",
       "      <th>title</th>\n",
       "      <th>user_id</th>\n",
       "      <th>rating</th>\n",
       "    </tr>\n",
       "  </thead>\n",
       "  <tbody>\n",
       "    <tr>\n",
       "      <th>0</th>\n",
       "      <td>4081</td>\n",
       "      <td>I am Charlotte Simmons</td>\n",
       "      <td>2</td>\n",
       "      <td>4</td>\n",
       "    </tr>\n",
       "    <tr>\n",
       "      <th>1</th>\n",
       "      <td>4081</td>\n",
       "      <td>I am Charlotte Simmons</td>\n",
       "      <td>258</td>\n",
       "      <td>5</td>\n",
       "    </tr>\n",
       "    <tr>\n",
       "      <th>2</th>\n",
       "      <td>4081</td>\n",
       "      <td>I am Charlotte Simmons</td>\n",
       "      <td>364</td>\n",
       "      <td>4</td>\n",
       "    </tr>\n",
       "    <tr>\n",
       "      <th>3</th>\n",
       "      <td>4081</td>\n",
       "      <td>I am Charlotte Simmons</td>\n",
       "      <td>316</td>\n",
       "      <td>2</td>\n",
       "    </tr>\n",
       "    <tr>\n",
       "      <th>4</th>\n",
       "      <td>260</td>\n",
       "      <td>How to Win Friends and Influence People</td>\n",
       "      <td>2</td>\n",
       "      <td>5</td>\n",
       "    </tr>\n",
       "  </tbody>\n",
       "</table>\n",
       "</div>"
      ],
      "text/plain": [
       "   book_id                                    title  user_id  rating\n",
       "0     4081                   I am Charlotte Simmons        2       4\n",
       "1     4081                   I am Charlotte Simmons      258       5\n",
       "2     4081                   I am Charlotte Simmons      364       4\n",
       "3     4081                   I am Charlotte Simmons      316       2\n",
       "4      260  How to Win Friends and Influence People        2       5"
      ]
     },
     "execution_count": 285,
     "metadata": {},
     "output_type": "execute_result"
    }
   ],
   "source": [
    "\n",
    "test_rating_item = test_rating_item[['book_id','title','user_id','rating']]\n",
    "test_rating_item.head()"
   ]
  },
  {
   "cell_type": "code",
   "execution_count": 286,
   "metadata": {},
   "outputs": [
    {
     "data": {
      "text/html": [
       "<div>\n",
       "<style scoped>\n",
       "    .dataframe tbody tr th:only-of-type {\n",
       "        vertical-align: middle;\n",
       "    }\n",
       "\n",
       "    .dataframe tbody tr th {\n",
       "        vertical-align: top;\n",
       "    }\n",
       "\n",
       "    .dataframe thead th {\n",
       "        text-align: right;\n",
       "    }\n",
       "</style>\n",
       "<table border=\"1\" class=\"dataframe\">\n",
       "  <thead>\n",
       "    <tr style=\"text-align: right;\">\n",
       "      <th>user_id</th>\n",
       "      <th>1</th>\n",
       "      <th>2</th>\n",
       "      <th>4</th>\n",
       "      <th>6</th>\n",
       "      <th>8</th>\n",
       "      <th>9</th>\n",
       "      <th>10</th>\n",
       "      <th>11</th>\n",
       "      <th>15</th>\n",
       "      <th>18</th>\n",
       "      <th>...</th>\n",
       "      <th>429</th>\n",
       "      <th>439</th>\n",
       "      <th>440</th>\n",
       "      <th>444</th>\n",
       "      <th>446</th>\n",
       "      <th>447</th>\n",
       "      <th>449</th>\n",
       "      <th>452</th>\n",
       "      <th>453</th>\n",
       "      <th>454</th>\n",
       "    </tr>\n",
       "    <tr>\n",
       "      <th>title</th>\n",
       "      <th></th>\n",
       "      <th></th>\n",
       "      <th></th>\n",
       "      <th></th>\n",
       "      <th></th>\n",
       "      <th></th>\n",
       "      <th></th>\n",
       "      <th></th>\n",
       "      <th></th>\n",
       "      <th></th>\n",
       "      <th></th>\n",
       "      <th></th>\n",
       "      <th></th>\n",
       "      <th></th>\n",
       "      <th></th>\n",
       "      <th></th>\n",
       "      <th></th>\n",
       "      <th></th>\n",
       "      <th></th>\n",
       "      <th></th>\n",
       "      <th></th>\n",
       "    </tr>\n",
       "  </thead>\n",
       "  <tbody>\n",
       "    <tr>\n",
       "      <th>Angels (Walsh Family, #3)</th>\n",
       "      <td>0</td>\n",
       "      <td>0</td>\n",
       "      <td>0</td>\n",
       "      <td>0</td>\n",
       "      <td>0</td>\n",
       "      <td>0</td>\n",
       "      <td>0</td>\n",
       "      <td>0</td>\n",
       "      <td>0</td>\n",
       "      <td>0</td>\n",
       "      <td>...</td>\n",
       "      <td>0</td>\n",
       "      <td>0</td>\n",
       "      <td>0</td>\n",
       "      <td>0</td>\n",
       "      <td>0</td>\n",
       "      <td>0</td>\n",
       "      <td>0</td>\n",
       "      <td>0</td>\n",
       "      <td>0</td>\n",
       "      <td>0</td>\n",
       "    </tr>\n",
       "    <tr>\n",
       "      <th>'Salem's Lot</th>\n",
       "      <td>0</td>\n",
       "      <td>0</td>\n",
       "      <td>0</td>\n",
       "      <td>0</td>\n",
       "      <td>0</td>\n",
       "      <td>0</td>\n",
       "      <td>0</td>\n",
       "      <td>0</td>\n",
       "      <td>0</td>\n",
       "      <td>0</td>\n",
       "      <td>...</td>\n",
       "      <td>0</td>\n",
       "      <td>0</td>\n",
       "      <td>0</td>\n",
       "      <td>0</td>\n",
       "      <td>0</td>\n",
       "      <td>0</td>\n",
       "      <td>0</td>\n",
       "      <td>0</td>\n",
       "      <td>0</td>\n",
       "      <td>0</td>\n",
       "    </tr>\n",
       "    <tr>\n",
       "      <th>'Tis (Frank McCourt, #2)</th>\n",
       "      <td>0</td>\n",
       "      <td>0</td>\n",
       "      <td>0</td>\n",
       "      <td>0</td>\n",
       "      <td>0</td>\n",
       "      <td>0</td>\n",
       "      <td>0</td>\n",
       "      <td>0</td>\n",
       "      <td>0</td>\n",
       "      <td>0</td>\n",
       "      <td>...</td>\n",
       "      <td>0</td>\n",
       "      <td>0</td>\n",
       "      <td>0</td>\n",
       "      <td>0</td>\n",
       "      <td>0</td>\n",
       "      <td>0</td>\n",
       "      <td>0</td>\n",
       "      <td>0</td>\n",
       "      <td>0</td>\n",
       "      <td>0</td>\n",
       "    </tr>\n",
       "    <tr>\n",
       "      <th>100 Selected Poems</th>\n",
       "      <td>0</td>\n",
       "      <td>0</td>\n",
       "      <td>0</td>\n",
       "      <td>0</td>\n",
       "      <td>0</td>\n",
       "      <td>0</td>\n",
       "      <td>0</td>\n",
       "      <td>0</td>\n",
       "      <td>0</td>\n",
       "      <td>0</td>\n",
       "      <td>...</td>\n",
       "      <td>0</td>\n",
       "      <td>0</td>\n",
       "      <td>0</td>\n",
       "      <td>0</td>\n",
       "      <td>0</td>\n",
       "      <td>0</td>\n",
       "      <td>0</td>\n",
       "      <td>0</td>\n",
       "      <td>0</td>\n",
       "      <td>0</td>\n",
       "    </tr>\n",
       "    <tr>\n",
       "      <th>1776</th>\n",
       "      <td>0</td>\n",
       "      <td>0</td>\n",
       "      <td>0</td>\n",
       "      <td>0</td>\n",
       "      <td>0</td>\n",
       "      <td>0</td>\n",
       "      <td>0</td>\n",
       "      <td>0</td>\n",
       "      <td>0</td>\n",
       "      <td>0</td>\n",
       "      <td>...</td>\n",
       "      <td>0</td>\n",
       "      <td>0</td>\n",
       "      <td>0</td>\n",
       "      <td>0</td>\n",
       "      <td>0</td>\n",
       "      <td>0</td>\n",
       "      <td>0</td>\n",
       "      <td>0</td>\n",
       "      <td>0</td>\n",
       "      <td>0</td>\n",
       "    </tr>\n",
       "  </tbody>\n",
       "</table>\n",
       "<p>5 rows × 255 columns</p>\n",
       "</div>"
      ],
      "text/plain": [
       "user_id                     1    2    4    6    8    9    10   11   15   18   \\\n",
       "title                                                                          \n",
       " Angels (Walsh Family, #3)    0    0    0    0    0    0    0    0    0    0   \n",
       "'Salem's Lot                  0    0    0    0    0    0    0    0    0    0   \n",
       "'Tis (Frank McCourt, #2)      0    0    0    0    0    0    0    0    0    0   \n",
       "100 Selected Poems            0    0    0    0    0    0    0    0    0    0   \n",
       "1776                          0    0    0    0    0    0    0    0    0    0   \n",
       "\n",
       "user_id                     ...  429  439  440  444  446  447  449  452  453  \\\n",
       "title                       ...                                                \n",
       " Angels (Walsh Family, #3)  ...    0    0    0    0    0    0    0    0    0   \n",
       "'Salem's Lot                ...    0    0    0    0    0    0    0    0    0   \n",
       "'Tis (Frank McCourt, #2)    ...    0    0    0    0    0    0    0    0    0   \n",
       "100 Selected Poems          ...    0    0    0    0    0    0    0    0    0   \n",
       "1776                        ...    0    0    0    0    0    0    0    0    0   \n",
       "\n",
       "user_id                     454  \n",
       "title                            \n",
       " Angels (Walsh Family, #3)    0  \n",
       "'Salem's Lot                  0  \n",
       "'Tis (Frank McCourt, #2)      0  \n",
       "100 Selected Poems            0  \n",
       "1776                          0  \n",
       "\n",
       "[5 rows x 255 columns]"
      ]
     },
     "execution_count": 286,
     "metadata": {},
     "output_type": "execute_result"
    }
   ],
   "source": [
    "test_M1 =pd.pivot_table(test_rating_item,index='user_id',columns='title',values='rating',fill_value=0)\n",
    "\n",
    "test_M1.T.head()"
   ]
  },
  {
   "cell_type": "code",
   "execution_count": 287,
   "metadata": {},
   "outputs": [],
   "source": [
    "# Get 5 similar items from the nearest neighbour \n",
    "n = 5 \n",
    "cosine_nn = NearestNeighbors(n_neighbors=n, algorithm='brute',metric='cosine')\n",
    "item_cosine_nn_fit = cosine_nn.fit(test_M1.T.values)\n",
    "item_distance, item_indices = item_cosine_nn_fit.kneighbors(test_M1.T.values )"
   ]
  },
  {
   "cell_type": "code",
   "execution_count": 288,
   "metadata": {},
   "outputs": [
    {
     "data": {
      "text/plain": [
       "(array([[0.        , 0.17798027, 0.22217421, 0.2602069 , 0.28073273],\n",
       "        [0.        , 0.40911613, 0.41654003, 0.41654003, 0.41654003]]),\n",
       " array([[   1,  986, 1081, 1496, 1233],\n",
       "        [   2,  143,  191, 1606, 2002]], dtype=int64))"
      ]
     },
     "execution_count": 288,
     "metadata": {},
     "output_type": "execute_result"
    }
   ],
   "source": [
    "# Cosine distance and Item \n",
    "# note this is not cosine similarlity , which can be obtained\n",
    "# by doing 1 - cosine distance \n",
    "item_distance,item_indices\n",
    "\n",
    "type(item_distance)\n",
    "item_distance[1:3],item_indices[1:3]"
   ]
  },
  {
   "cell_type": "code",
   "execution_count": 289,
   "metadata": {},
   "outputs": [],
   "source": [
    "# Here we are listing all the book and corresponding 5 recommendation \n",
    "items_dic = {}\n",
    "\n",
    "for i in range (len(test_M1.T.index)):\n",
    "    item_idx = item_indices[i]\n",
    "    col_names = test_M1.T.index[item_idx].tolist()\n",
    "    items_dic[test_M1.T.index[i]] = col_names"
   ]
  },
  {
   "cell_type": "code",
   "execution_count": 318,
   "metadata": {},
   "outputs": [
    {
     "data": {
      "text/plain": [
       "{' Angels (Walsh Family, #3)': ['The Druid of Shannara (Heritage of Shannara, #2)',\n",
       "  'The Elfstones of Shannara  (The Original Shannara Trilogy, #2)',\n",
       "  'Intensity',\n",
       "  'Rose Madder',\n",
       "  'The Black Unicorn (Magic Kingdom of Landover, #2)'],\n",
       " \"'Salem's Lot\": [\"'Salem's Lot\",\n",
       "  'Night Shift',\n",
       "  'Pet Sematary',\n",
       "  'The Dead Zone',\n",
       "  'Skeleton Crew']}"
      ]
     },
     "execution_count": 318,
     "metadata": {},
     "output_type": "execute_result"
    }
   ],
   "source": [
    "# List of the Book reccomnded by item title \n",
    "show_dict_item(2,items_dic)"
   ]
  },
  {
   "cell_type": "code",
   "execution_count": 291,
   "metadata": {},
   "outputs": [],
   "source": [
    "# Lets find list of Book read by user\n",
    "\n",
    "has_read= {}\n",
    "row_indexes = {}\n",
    "for i,row in test_M1.iterrows():\n",
    "    rows = [x for x in range(0,len(test_M1.columns))]\n",
    "    combine = list(zip(row.index,row.values,rows))\n",
    "    read = [(x,z) for x,y,z in combine if y!=0]\n",
    "    index = [i[1] for i in read]\n",
    "    row_names = [i[0] for i in read]\n",
    "    row_indexes[i] = index\n",
    "    has_read[i] = row_names\n",
    "\n",
    "\n"
   ]
  },
  {
   "cell_type": "code",
   "execution_count": 320,
   "metadata": {},
   "outputs": [
    {
     "data": {
      "text/plain": [
       "(dict,\n",
       " {1: ['Balzac and the Little Chinese Seamstress',\n",
       "   'Gilead (Gilead, #1)',\n",
       "   'Housekeeping',\n",
       "   'Never Let Me Go',\n",
       "   'The Book Thief',\n",
       "   'The History of Love',\n",
       "   'The Sea'],\n",
       "  2: ['Harry Potter Collection (Harry Potter, #1-6)',\n",
       "   'Heart of Darkness',\n",
       "   'How to Win Friends and Influence People',\n",
       "   'I am Charlotte Simmons',\n",
       "   'Memoirs of a Geisha',\n",
       "   'The Da Vinci Code (Robert Langdon, #2)',\n",
       "   'The Drama of the Gifted Child: The Search for the True Self',\n",
       "   'The House of God',\n",
       "   'The Millionaire Next Door: The Surprising Secrets of Americas Wealthy',\n",
       "   'Who Moved My Cheese?']})"
      ]
     },
     "execution_count": 320,
     "metadata": {},
     "output_type": "execute_result"
    }
   ],
   "source": [
    "# has_read.items()\n",
    "type(has_read),show_dict_item(2,has_read)"
   ]
  },
  {
   "cell_type": "code",
   "execution_count": 315,
   "metadata": {},
   "outputs": [
    {
     "data": {
      "text/plain": [
       "{1: [197, 581, 688, 977, 1405, 1616, 1875],\n",
       " 2: [633, 647, 692, 705, 899, 1486, 1518, 1629, 1737, 2162]}"
      ]
     },
     "execution_count": 315,
     "metadata": {},
     "output_type": "execute_result"
    }
   ],
   "source": [
    "#row_indexes.items(),\n",
    "type(row_indexes),show_dict_item(2,row_indexes)"
   ]
  },
  {
   "cell_type": "code",
   "execution_count": 294,
   "metadata": {},
   "outputs": [
    {
     "data": {
      "text/plain": [
       "array([[   1,  986, 1081, 1496, 1233],\n",
       "       [   2,  143,  191, 1606, 2002],\n",
       "       [  11,    3,  256,   69, 1764],\n",
       "       [   4, 1303,  894, 1837, 1453]], dtype=int64)"
      ]
     },
     "execution_count": 294,
     "metadata": {},
     "output_type": "execute_result"
    }
   ],
   "source": [
    "item_indices[1:5]"
   ]
  },
  {
   "cell_type": "code",
   "execution_count": 295,
   "metadata": {},
   "outputs": [],
   "source": [
    "# Sample of data \n",
    "# item_indexs = (454, [5, 83, 215, 302, 437, 1031, 1707, 2063, 2098])  i.e. User and Book ID of the read books\n",
    "# item_distance = (array([[0.        , 0.17798027, 0.22217421, 0.2602069 , 0.28073273],\n",
    "#         [0.        , 0.40911613, 0.41654003, 0.41654003, 0.41654003]]),\n",
    "# item_indices =  array([[   1,  986, 1081, 1496, 1233],\n",
    "#         [   2,  143,  191, 1606, 2002]], dtype=int64))\n",
    "#-----------------------------------------------------------------------------------------------------------------\n",
    "# We will read all Book read by User 454 , and find the similar book from item_indices and item_distance\n",
    "# Then we will remove all the books already read by user 454 and sort the result to store in final recommendation \n",
    "\n",
    "top_rec = {}\n",
    "# Find the Item close to the Item already read \n",
    "# Get the read item and find the distance from the Item_disatnce for the book already read \n",
    "for k, v in row_indexes.items():\n",
    "    item_idx = [j for i in item_indices[v] for j in i]\n",
    "    item_dist = [j for i in item_distance[v] for j in i]\n",
    "    # Put this info in one list\n",
    "    combine = list(zip(item_dist,item_idx))\n",
    "    # Keep out the already read Book\n",
    "    diction = {i:d for d,i in combine  if i not in v}\n",
    "    zipped = list(zip(diction.keys(),diction.values()))\n",
    "    #sorting our result so that we have most similar item on the top \n",
    "    sort = sorted(zipped,key=lambda x: x[1])  \n",
    "    # to get the actaul movie name , pass the actual user-item matrim \n",
    "    # test_M.columns[2116] 'Vernon God Little'\n",
    "    recommendations = [(test_M.columns[i],d) for i,d in sort]\n",
    "    idp = [(i,d) for i,d in sort ] \n",
    "#     print(item_idx)\n",
    "    top_rec[k]= recommendations\n",
    "#     print('Combine:',item_idx)\n",
    "#     print('Only Note Read:',recommendations)\n",
    "#     print('Item dis:',idp)\n",
    "          \n"
   ]
  },
  {
   "cell_type": "code",
   "execution_count": 296,
   "metadata": {},
   "outputs": [
    {
     "data": {
      "text/plain": [
       "255"
      ]
     },
     "execution_count": 296,
     "metadata": {},
     "output_type": "execute_result"
    }
   ],
   "source": [
    "top_rec.items()\n",
    "len(test_M.index)"
   ]
  },
  {
   "cell_type": "code",
   "execution_count": 297,
   "metadata": {},
   "outputs": [
    {
     "data": {
      "text/plain": [
       "True"
      ]
     },
     "execution_count": 297,
     "metadata": {},
     "output_type": "execute_result"
    }
   ],
   "source": [
    "#some Test \n",
    "# check if User exist in Record\n",
    "2 in test_M.index "
   ]
  },
  {
   "cell_type": "code",
   "execution_count": 298,
   "metadata": {},
   "outputs": [
    {
     "name": "stdout",
     "output_type": "stream",
     "text": [
      "Boork Read so far: \n",
      "Harry Potter Collection (Harry Potter, #1-6)\n",
      "Heart of Darkness\n",
      "How to Win Friends and Influence People\n",
      "I am Charlotte Simmons\n",
      "Memoirs of a Geisha\n",
      "The Da Vinci Code (Robert Langdon, #2)\n",
      "The Drama of the Gifted Child: The Search for the True Self\n",
      "The House of God\n",
      "The Millionaire Next Door: The Surprising Secrets of Americas Wealthy\n",
      "Who Moved My Cheese?\n"
     ]
    }
   ],
   "source": [
    "has_read[2] # list all the Book read by user 2\n",
    "print(\"Boork Read so far: \\n{}\".format('\\n'.join(has_read[2])))"
   ]
  },
  {
   "cell_type": "code",
   "execution_count": 299,
   "metadata": {},
   "outputs": [],
   "source": [
    "# build Final Recommendation \n",
    "def get_book_recommendation(user,number_of_rec=5):\n",
    "    if user in test_M.index :\n",
    "        print(\"Boork Read so far: \\n\\n{}\".format('\\n'.join(has_read[user])))\n",
    "        print()\n",
    "        print(\"\\n\\nTOP 5 RECOMMENDATION:\")\n",
    "        # Get the Move name along with similarity score \n",
    "        for k,v in top_rec.items():\n",
    "            if user == k:\n",
    "                for i in v[:number_of_rec]:\n",
    "                    print('{} with similarlity: {:.4f}'.format(i[0],1-i[1]))\n",
    "    else:\n",
    "        print(\" Sorry user is not found\")\n",
    "    "
   ]
  },
  {
   "cell_type": "code",
   "execution_count": 300,
   "metadata": {},
   "outputs": [
    {
     "name": "stdout",
     "output_type": "stream",
     "text": [
      "Boork Read so far: \n",
      "\n",
      "Harry Potter Collection (Harry Potter, #1-6)\n",
      "Heart of Darkness\n",
      "How to Win Friends and Influence People\n",
      "I am Charlotte Simmons\n",
      "Memoirs of a Geisha\n",
      "The Da Vinci Code (Robert Langdon, #2)\n",
      "The Drama of the Gifted Child: The Search for the True Self\n",
      "The House of God\n",
      "The Millionaire Next Door: The Surprising Secrets of Americas Wealthy\n",
      "Who Moved My Cheese?\n",
      "\n",
      "\n",
      "\n",
      "TOP 5 RECOMMENDATION:\n",
      "Plainsong (Plainsong, #1) with similarlity: 0.6402\n",
      "Random Family: Love, Drugs, Trouble, and Coming of Age in the Bronx with similarlity: 0.6402\n",
      "Tender at the Bone: Growing Up at the Table with similarlity: 0.6402\n",
      "One Good Turn (Jackson Brodie, #2) with similarlity: 0.6402\n",
      "A Supposedly Fun Thing I'll Never Do Again:  Essays and Arguments with similarlity: 0.6247\n"
     ]
    }
   ],
   "source": [
    "# Propose recommendation for User 2\n",
    "get_book_recommendation(2)\n"
   ]
  },
  {
   "cell_type": "markdown",
   "metadata": {},
   "source": [
    "### Predict Rating of books using Item to Item (IICF)"
   ]
  },
  {
   "cell_type": "code",
   "execution_count": 301,
   "metadata": {},
   "outputs": [
    {
     "data": {
      "text/plain": [
       "array([[ 23.        ,  43.        , 364.        , ...,  13.        ,\n",
       "        244.        ,  42.        ],\n",
       "       [ 12.84371217,  30.60439691, 222.17943689, ...,   7.15978527,\n",
       "        149.09282941,  22.07803942],\n",
       "       [ 12.77437879,  28.78289484, 207.62542351, ...,   6.49645683,\n",
       "        141.98679436,  20.30402605],\n",
       "       [ 12.74387464,  25.70639651, 195.08457672, ...,   6.43217442,\n",
       "        135.55939244,  19.68470576],\n",
       "       [ 12.15220253,  24.04089531, 187.81210418, ...,   6.40233125,\n",
       "        129.96588445,  18.14283567]])"
      ]
     },
     "execution_count": 301,
     "metadata": {},
     "output_type": "execute_result"
    }
   ],
   "source": [
    "# Predict Rating of books\n",
    "item_distance_p = 1 - item_distance  # actaul similarlity \n",
    "test_predction = item_distance_p.T.dot(test_M1.T.values)/np.array([np.abs(item_distance_p.T).sum(axis = 1)]).T\n",
    "real_rating = test_M1.T.values[item_distance_p.argsort()[0]]\n",
    "test_predction\n",
    "item_distance_p.T.dot(test_M1.T.values)"
   ]
  },
  {
   "cell_type": "code",
   "execution_count": 302,
   "metadata": {},
   "outputs": [
    {
     "data": {
      "text/plain": [
       "array([[0.01039313, 0.01943064, 0.1644826 , ..., 0.00587438, 0.11025757,\n",
       "        0.01897876],\n",
       "       [0.0069546 , 0.01657164, 0.12030552, ..., 0.00387687, 0.08073065,\n",
       "        0.0119548 ],\n",
       "       [0.00720121, 0.01622559, 0.11704326, ..., 0.0036622 , 0.08004125,\n",
       "        0.01144585],\n",
       "       [0.00744793, 0.01502364, 0.11401366, ..., 0.00375917, 0.07922524,\n",
       "        0.01150437],\n",
       "       [0.00733897, 0.0145188 , 0.11342365, ..., 0.0038665 , 0.07848911,\n",
       "        0.01095684]])"
      ]
     },
     "execution_count": 302,
     "metadata": {},
     "output_type": "execute_result"
    }
   ],
   "source": [
    "test_predction"
   ]
  },
  {
   "cell_type": "markdown",
   "metadata": {},
   "source": [
    "### RMSE Calculation"
   ]
  },
  {
   "cell_type": "code",
   "execution_count": 303,
   "metadata": {},
   "outputs": [],
   "source": [
    "def rmse(prediction,real):\n",
    "    prediction = prediction[real.nonzero()].flatten()\n",
    "    real= real[real.nonzero()].flatten()\n",
    "    return sqrt(mean_squared_error(prediction,real))\n",
    "    "
   ]
  },
  {
   "cell_type": "code",
   "execution_count": 304,
   "metadata": {},
   "outputs": [
    {
     "name": "stdout",
     "output_type": "stream",
     "text": [
      "Accuracy:96.353\n",
      "RMSE: 3.647\n"
     ]
    },
    {
     "data": {
      "text/plain": [
       "3.6470512670697888"
      ]
     },
     "execution_count": 304,
     "metadata": {},
     "output_type": "execute_result"
    }
   ],
   "source": [
    "error_rate = rmse(test_predction,real_rating)\n",
    "print(\"Accuracy:{:.3f}\".format(100-error_rate))\n",
    "print(\"RMSE: {:.3f}\".format(error_rate))\n",
    "error_rate"
   ]
  },
  {
   "cell_type": "code",
   "execution_count": null,
   "metadata": {},
   "outputs": [],
   "source": []
  },
  {
   "cell_type": "markdown",
   "metadata": {},
   "source": [
    "## Summary\n",
    "Please provide at least one graph, and a textual summary of your findings and recommendations. "
   ]
  },
  {
   "cell_type": "markdown",
   "metadata": {},
   "source": [
    "## Sources\n",
    "\n",
    "**To do: figure out jupyter nbconvert citations**\n",
    "\n",
    "http://fastml.com/goodbooks-10k-a-new-dataset-for-book-recommendations/\n",
    "\n",
    "@article{goodbooks2017,\n",
    "    author = {Zajac, Zygmunt},\n",
    "    title = {Goodbooks-10k: a new dataset for book recommendations},\n",
    "    year = {2017},\n",
    "    publisher = {FastML},\n",
    "    journal = {FastML},\n",
    "    howpublished = {\\url{http://fastml.com/goodbooks-10k}},\n",
    "},\n"
   ]
  }
 ],
 "metadata": {
  "kernelspec": {
   "display_name": "Python 3",
   "language": "python",
   "name": "python3"
  },
  "language_info": {
   "codemirror_mode": {
    "name": "ipython",
    "version": 3
   },
   "file_extension": ".py",
   "mimetype": "text/x-python",
   "name": "python",
   "nbconvert_exporter": "python",
   "pygments_lexer": "ipython3",
   "version": "3.7.3"
  }
 },
 "nbformat": 4,
 "nbformat_minor": 2
}
