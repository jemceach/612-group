{
 "cells": [
  {
   "cell_type": "markdown",
   "metadata": {},
   "source": [
    "#### Data 612 - Final Project Planning Document<br>Christina Valore, Juliann McEachern, Rajwant Mishra<br>Due: July 5, 2019\n",
    "\n",
    "# `Project Name Proposal` \n",
    "\n",
    "The requirements for the Final Project Planning Document (Proposal) are included with the requirements for the Final Project, below.\n",
    "\n",
    "Please use this submission link only for the Final Project Planning Document (proposal), due Thursday.\n",
    "The goal for your final project is for you to build out a recommender system using a large dataset (ex: 1M+ ratings or 10k+ users, 10k+ items). \n",
    "\n",
    "There are three deliverables, with separate dates:\n",
    "* Planning Document (July 5th)\n",
    "* Presentation (July 17th)\n",
    "* Final Project (July 17th)\n",
    "\n",
    "### Planning Document \n",
    "\n",
    "Find an interesting dataset and describe the system you plan to build out. If you would like to use one of the datasets you have already worked with, you should add a unique element or incorporate additional data. (i.e. explicit features you scrape from another source, like image analysis on movie posters). \n",
    "\n",
    "The overall goal, however, will be to produce quality recommendations by extracting insights from a large dataset. You may do so using Spark, or another distributed computing method, OR by effectively applying one of the more advanced mathematical techniques we have covered. There is no preference for one over the other, as long as your recommender works! The planning document should be written up and published as a notebook on GitHub or in RPubs.Please submit the link in the Unit 4 folder, due Thursday, July 5.\n",
    "\n",
    "### Presentation\n",
    "\n",
    "Make a five-minute presentation of your system in our final meetup on Tuesday. If you’re not able to attend the meetup, you’re responsible for either recording your presentation, or scheduling one-on-one time to deliver your presentation prior to the meetup. You should be prepared to present on Tuesday. You should use this project to showcase some of the concepts that you have learned in this course, while delivering on the (probably) less familiar Spark platform. You are welcome to submit a compelling alternative proposal (subject to approval), such as implementing a recommender system using in Microsoft Azure ML Studio or with Google TensorFlow, or building out an application of a certain complexity using another tool. You may work in a small group (2-3) on this assignment.\n",
    "\n",
    "### Implementation\n",
    "\n",
    "In this final project deliverable, you’ll build out the system that you describe in your planning document. This will be due on Thursday and must be turned in as an RMarkdown file or a Jupyter notebook, and posted to GitHub or RPubs.com."
   ]
  }
 ],
 "metadata": {
  "kernelspec": {
   "display_name": "Python 2",
   "language": "python",
   "name": "python2"
  }
 },
 "nbformat": 4,
 "nbformat_minor": 2
}
