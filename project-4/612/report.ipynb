{
 "cells": [
  {
   "cell_type": "markdown",
   "metadata": {},
   "source": [
    "#### Data 612 - Project 4<br>Christina Valore, Juliann McEachern, Rajwant Mishra<br>Due: July 2, 2019\n",
    "\n",
    "# Accuracy and Beyond \n",
    "\n",
    "## Overview\n",
    "\n",
    "The goal of this assignment is give you practice working with accuracy and other recommender system metrics. \n",
    " \n",
    "In this assignment you’re asked to do at least one or (if you like) both of the following:  \n",
    "*  Work in a small group, and/or  \n",
    "*  Choose a different dataset to work with from your previous projects\n",
    "\n",
    "## Deliverables \n",
    " \n",
    "1. As in your previous assignments, compare the accuracy of at least two recommender system algorithms against your offline data. \n",
    "2. Implement support for at least one business or user experience goal such as increased serendipity, novelty, or diversity. \n",
    "3. Compare and report on any change in accuracy before and after you’ve made the change in #2. \n",
    "4. As part of your textual conclusion, discuss one or more additional experiments that could be performed and/or metrics that could be evaluated only if online evaluation was possible.  Also, briefly propose how you would design a reasonable online evaluation environment. \n",
    " \n",
    "You’ll find some of the material discussed in this week’s reading to be helpful in completing this project.  You may also want to look at papers online, or search for “recsys” on youtube or slideshare.net. \n",
    " \n",
    "Please submit a link to your GitHub repository for your Jupyter notebook or RMarkdown file (and rpubs.com link). "
   ]
  },
  {
   "cell_type": "code",
   "execution_count": null,
   "metadata": {},
   "outputs": [],
   "source": []
  }
 ],
 "metadata": {
  "kernelspec": {
   "display_name": "Python 2",
   "language": "python",
   "name": "python2"
  }
 },
 "nbformat": 4,
 "nbformat_minor": 2
}
